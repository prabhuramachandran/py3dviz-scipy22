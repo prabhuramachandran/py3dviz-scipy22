{
 "cells": [
  {
   "cell_type": "markdown",
   "id": "d31a50d6",
   "metadata": {
    "slideshow": {
     "slide_type": "slide"
    }
   },
   "source": [
    "## Pythonic 3D visualization: Introduction to datasets\n",
    "\n",
    "**Prabhu Ramachandran and Matt McCormick**\n",
    "\n",
    "**SciPy 2022**\n"
   ]
  },
  {
   "cell_type": "markdown",
   "id": "186eea06",
   "metadata": {
    "slideshow": {
     "slide_type": "slide"
    }
   },
   "source": [
    "## Outline\n",
    "\n",
    "- **Datasets background**  $\\Longleftarrow$\n",
    "\n",
    "- Creating datasets from Python\n"
   ]
  },
  {
   "cell_type": "markdown",
   "id": "6efc060a",
   "metadata": {
    "lines_to_next_cell": 2,
    "slideshow": {
     "slide_type": "slide"
    }
   },
   "source": [
    "## Datasets: Why the fuss?\n",
    "\n",
    "* 3D data requires more information than in 2D\n",
    "\n",
    "* Topology is important\n",
    "\n",
    "* 2D is a lot easier\n"
   ]
  },
  {
   "cell_type": "markdown",
   "id": "1174d462",
   "metadata": {
    "slideshow": {
     "slide_type": "slide"
    }
   },
   "source": [
    "## Dimensionality example\n",
    "\n",
    "|<img src=\"MEDIA/m2/datasets/points.png\" width=\"60%\" height=\"60%\"/> | <img src=\"MEDIA/m2/datasets/wireframe.png\" width=\"60%\" height=\"60%\"/> |\n",
    "| ---------------- | --------------|\n",
    "| Points           |  Wireframe    |\n",
    "| <img src=\"MEDIA/m2/datasets/surface.png\" width=\"60%\" height=\"60%\" />| |\n",
    "| Surface          |               |\n"
   ]
  },
  {
   "cell_type": "markdown",
   "id": "c523f618",
   "metadata": {
    "lines_to_next_cell": 2,
    "slideshow": {
     "slide_type": "slide"
    }
   },
   "source": [
    "## Discretization of the space\n",
    "\n",
    "- Discretize the space\n",
    "\n",
    "- Points in the space\n",
    "\n",
    "- Simplices that break up the space\n",
    "\n",
    "- Data values at each point/simplex to describe a field\n"
   ]
  },
  {
   "cell_type": "markdown",
   "id": "1ae4969f",
   "metadata": {
    "slideshow": {
     "slide_type": "slide"
    }
   },
   "source": [
    "## Topology and Grids\n",
    "\n",
    "* \"Topology\": how are points of the space connected up to\n",
    "  form a line/surface/volume\n",
    "\n",
    "* *Grid* in scientific computing: points + topology\n",
    "\n",
    "* Space broken into small \"pieces\" called\n",
    "    * Cells\n",
    "    * Elements\n",
    "\n",
    "* Data can be associated with the points or cells\n"
   ]
  },
  {
   "cell_type": "markdown",
   "id": "d6d2af7b",
   "metadata": {
    "slideshow": {
     "slide_type": "slide"
    }
   },
   "source": [
    "## The general idea\n",
    "\n",
    "* Specify points of the space\n",
    "\n",
    "* Specify connectivity between points (topology)\n",
    "\n",
    "* Connectivity creates \"cells\"\n",
    "\n",
    "* Specify \"attribute\" data at points or cells\n",
    "\n",
    "<center>\n",
    "<img src=\"MEDIA/m2/datasets/dataset_idea.png\" width=\"60%\" height=\"25%\" />\n",
    "</center>\n"
   ]
  },
  {
   "cell_type": "markdown",
   "id": "c1686b8b",
   "metadata": {
    "slideshow": {
     "slide_type": "slide"
    }
   },
   "source": [
    "## Types of datasets\n",
    "\n",
    "* Implicit topology (structured):\n",
    "   * Image data (structured points)\n",
    "   * Rectilinear grids\n",
    "   * Structured grids\n",
    "\n",
    "* Explicit topology (unstructured):\n",
    "   * Polygonal data (surfaces)\n",
    "   * Unstructured grids\n"
   ]
  },
  {
   "cell_type": "markdown",
   "id": "6fd088a3",
   "metadata": {
    "slideshow": {
     "slide_type": "slide"
    }
   },
   "source": [
    "## Structured versus unstructured grids\n",
    "\n",
    "* Important to understand the differences\n",
    "\n",
    "* Differences related to topology specification\n",
    "\n",
    "* Recall the `mlab` data sources?\n",
    "   * Unconnected\n",
    "   * Implicit connectivity\n",
    "   * Explicit connectivity\n"
   ]
  },
  {
   "cell_type": "markdown",
   "id": "f104c693",
   "metadata": {
    "slideshow": {
     "slide_type": "slide"
    }
   },
   "source": [
    "## Unconnected sources\n",
    "\n",
    "| `scalar_scatter` | `vector_scatter` |\n",
    "| ---------------- | ---------------- |\n",
    "| <img src=\"MEDIA/m2/mlab/points3d_ex.png\"/> | <img src=\"MEDIA/m2/mlab/quiver3d_ex.png\"/> |\n",
    "|`PolyData`      | `PolyData`    |\n",
    "|`mlab.points3d`   | `mlab.quiver3d` |\n"
   ]
  },
  {
   "cell_type": "markdown",
   "id": "e36d9d1d",
   "metadata": {
    "slideshow": {
     "slide_type": "slide"
    }
   },
   "source": [
    "## Implicitly-connected sources\n",
    "\n",
    "| `scalar_field`    |   `vector_field`  |\n",
    "| ----------------- | ---------------   |\n",
    "| <img src=\"MEDIA/m2/mlab/contour3d.png\" height=\"75%\" width=\"100%\"/> | <img src=\"MEDIA/m2/mlab/flow_ex.png\" width=\"75%\" height=\"60%\" /> |\n",
    "| `ImageData`       | `ImageData`     |\n",
    "| `mlab.contour3d`  | `mlab.flow`     |\n"
   ]
  },
  {
   "cell_type": "markdown",
   "id": "cb3c78ff",
   "metadata": {
    "slideshow": {
     "slide_type": "slide"
    }
   },
   "source": [
    "## Implicitly-connected sources\n",
    "\n",
    "`array2d_source`\n",
    "\n",
    "<img src=\"MEDIA/m2/mlab/imshow_ex.png\" width=\"50%\" height=\"50%\"/>\n",
    "\n",
    "`ImageData`\n",
    "\n",
    "`mlab.imshow`\n"
   ]
  },
  {
   "cell_type": "markdown",
   "id": "06114054",
   "metadata": {
    "slideshow": {
     "slide_type": "slide"
    }
   },
   "source": [
    "## Explicitly-connected sources\n",
    "\n",
    "| `line_source`  | `triangular_mesh_source` |\n",
    "| -------------- | ---------------------- |\n",
    "| <img src=\"MEDIA/m2/mlab/plot3d_ex.png\"/> |  <img src=\"MEDIA/m2/mlab/triangular_mesh_ex.png\"/> |\n",
    "|`PolyData`      | `PolyData`    |\n",
    "|`mlab.plot3d`   | `mlab.triangular_mesh` |\n"
   ]
  },
  {
   "cell_type": "markdown",
   "id": "a1069dcf",
   "metadata": {
    "slideshow": {
     "slide_type": "slide"
    }
   },
   "source": [
    "## Structured grids\n",
    "\n",
    "* Implicit topology associated with points\n",
    "* Easiest example: a rectangular mesh\n",
    "* Non-rectangular mesh certainly possible\n",
    "\n",
    "\n",
    "|<img src=\"MEDIA/m2/datasets/rectangularsg.png\"/> | <img src=\"MEDIA/m2/datasets/sgrid.png\"/>|\n",
    "| ------ | ------- |\n"
   ]
  },
  {
   "cell_type": "markdown",
   "id": "9b785e2d",
   "metadata": {
    "slideshow": {
     "slide_type": "slide"
    }
   },
   "source": [
    "## Unstructured grids\n",
    "\n",
    "* Explicit topology specification\n",
    "\n",
    "* Specified via connectivity lists\n",
    "\n",
    "* Different number of neighbors, different types of cells\n",
    "\n",
    "<img src=\"MEDIA/m2/datasets/unstructured.png\" width=\"60%\" height=\"25%\"/>\n"
   ]
  },
  {
   "cell_type": "markdown",
   "id": "03f60b03",
   "metadata": {
    "slideshow": {
     "slide_type": "slide"
    }
   },
   "source": [
    "## Different types of cells\n",
    "\n",
    "<img src=\"MEDIA/m2/datasets/cells.png\"/>\n"
   ]
  },
  {
   "cell_type": "markdown",
   "id": "37e06c85",
   "metadata": {
    "slideshow": {
     "slide_type": "slide"
    }
   },
   "source": [
    "## Scalar, vector and tensor fields\n",
    "\n",
    "* Associate a scalar/vector/tensor with every point of the space\n",
    "\n",
    "* Scalar field: $ f(\\mathcal{R}^n) \\rightarrow \\mathcal{R}$\n",
    "* Vector field: $ f(\\mathcal{R}^n) \\rightarrow \\mathcal{R}^m$\n",
    "* Some examples:\n",
    "    * Temperature distribution on a rod\n",
    "    * Pressure distribution in room\n",
    "    * Velocity field in room\n",
    "    * Vorticity field in room\n",
    "    * Stress tensor field on a surface\n",
    "\n",
    "* Two aspects of field data, representation and visualization\n"
   ]
  },
  {
   "cell_type": "markdown",
   "id": "56e5e60a",
   "metadata": {
    "slideshow": {
     "slide_type": "slide"
    }
   },
   "source": [
    "## A note on Cell Data\n",
    "\n",
    "* Most algorithms work with point data\n",
    "\n",
    "* Convert to point data: `CellDataToPointData`\n"
   ]
  },
  {
   "cell_type": "markdown",
   "id": "da2be208",
   "metadata": {
    "slideshow": {
     "slide_type": "slide"
    }
   },
   "source": [
    "## Exercise\n",
    "<center>\n",
    "<img src=\"MEDIA/m2/mlab/points3d_ex.png\"/>\n",
    "</center>\n"
   ]
  },
  {
   "cell_type": "markdown",
   "id": "00c0e0b2",
   "metadata": {
    "slideshow": {
     "slide_type": "slide"
    }
   },
   "source": [
    "## Exercise\n",
    "<center>\n",
    "<img src=\"MEDIA/m2/mlab/plot3d_ex.png\"/>\n",
    "</center>\n"
   ]
  },
  {
   "cell_type": "markdown",
   "id": "8971e9d5",
   "metadata": {
    "slideshow": {
     "slide_type": "slide"
    }
   },
   "source": [
    "## Exercise\n",
    "<center>\n",
    "<img src=\"MEDIA/m2/mlab/surf_ex.png\"/>\n",
    "</center>\n"
   ]
  },
  {
   "cell_type": "markdown",
   "id": "e60ff150",
   "metadata": {
    "slideshow": {
     "slide_type": "slide"
    }
   },
   "source": [
    "## Exercise\n",
    "<center>\n",
    "<img src=\"MEDIA/m2/mlab/contour3d.png\"/>\n",
    "</center>\n"
   ]
  },
  {
   "cell_type": "markdown",
   "id": "7bccd7ca",
   "metadata": {
    "lines_to_next_cell": 2,
    "slideshow": {
     "slide_type": "slide"
    }
   },
   "source": [
    "## Exercise\n",
    "<center>\n",
    "<img src=\"MEDIA/m2/mlab/triangular_mesh.png\"/>\n",
    "</center>\n"
   ]
  },
  {
   "cell_type": "markdown",
   "id": "e1f1e318",
   "metadata": {
    "slideshow": {
     "slide_type": "slide"
    }
   },
   "source": [
    "## VTK datasets\n",
    "\n",
    "* These are the most fundamental\n",
    "\n",
    "* VTK data files support the following:\n",
    "  1. Image data (earlier called Structured Points)\n",
    "  1. Rectilinear grid\n",
    "  1. Structured grid\n",
    "  1. Unstructured grid\n",
    "  1. Polygonal data\n"
   ]
  },
  {
   "cell_type": "markdown",
   "id": "d7bf5106",
   "metadata": {
    "slideshow": {
     "slide_type": "slide"
    }
   },
   "source": [
    "## The different datasets\n",
    "\n",
    "- Implicitly connected datasets\n",
    "\n",
    "   - Structured points/Image data: fixed spacing, orthogonal\n",
    "   - Rectilinear grid: spacing variable but orthogonal coordinates\n",
    "   - Structured grids: mappable to a meshgrid\n",
    "\n",
    "- Explicitly connected\n",
    "\n",
    "   - Polygonal data: surfaces\n",
    "   - Unstructured grid: volumes/surfaces\n"
   ]
  },
  {
   "cell_type": "markdown",
   "id": "d2677635",
   "metadata": {
    "slideshow": {
     "slide_type": "slide"
    }
   },
   "source": [
    "## Implicit ordering\n",
    "\n",
    "* Important: Implicit ordering of points and cells.\n",
    "  The $X$ co-ordinate increases first, $Y$ next and $Z$ last.\n"
   ]
  },
  {
   "cell_type": "markdown",
   "id": "90c04777",
   "metadata": {
    "lines_to_next_cell": 2,
    "slideshow": {
     "slide_type": "slide"
    }
   },
   "source": [
    "## VTK data files\n",
    "\n",
    "- VTK has a native data format: `*.vtk`, `*.vt*`\n",
    "- Detailed documentation on this is available here: [www.vtk.org/VTK/img/file-formats.pdf](https://www.vtk.org/VTK/img/file-formats.pdf)\n",
    "- Can be created and loaded easily\n"
   ]
  },
  {
   "cell_type": "markdown",
   "id": "72436c62",
   "metadata": {
    "slideshow": {
     "slide_type": "slide"
    }
   },
   "source": [
    "## Loading data with `mlab`\n",
    "\n",
    "This will open all supported files:\n"
   ]
  },
  {
   "cell_type": "code",
   "execution_count": null,
   "id": "21a64cba",
   "metadata": {},
   "outputs": [],
   "source": [
    "import numpy as np\n",
    "from mayavi import mlab"
   ]
  },
  {
   "cell_type": "code",
   "execution_count": null,
   "id": "f8c7160b",
   "metadata": {
    "lines_to_next_cell": 0
   },
   "outputs": [],
   "source": [
    "%gui qt"
   ]
  },
  {
   "cell_type": "markdown",
   "id": "f80e8829",
   "metadata": {},
   "source": [
    "OR do this"
   ]
  },
  {
   "cell_type": "code",
   "execution_count": null,
   "id": "1592619a",
   "metadata": {
    "lines_to_next_cell": 2
   },
   "outputs": [],
   "source": [
    "mlab.init_notebook('itk')"
   ]
  },
  {
   "cell_type": "code",
   "execution_count": null,
   "id": "8aac4824",
   "metadata": {},
   "outputs": [],
   "source": [
    "mlab.pipeline.open('data/room_vis.wrl')"
   ]
  },
  {
   "cell_type": "code",
   "execution_count": null,
   "id": "fab10199",
   "metadata": {},
   "outputs": [],
   "source": [
    "mlab.pipeline.open('data/fire_ug.vtu')"
   ]
  },
  {
   "cell_type": "markdown",
   "id": "7d328820",
   "metadata": {
    "slideshow": {
     "slide_type": "slide"
    }
   },
   "source": [
    "## Outline\n",
    "\n",
    "- Datasets background\n",
    "\n",
    "- **Creating datasets from Python**  $\\Longleftarrow$\n"
   ]
  },
  {
   "cell_type": "markdown",
   "id": "4d347397",
   "metadata": {
    "slideshow": {
     "slide_type": "slide"
    }
   },
   "source": [
    "## Overview\n",
    "\n",
    "* Create datasets with TVTK and NumPy\n",
    "\n",
    "* Simple examples\n",
    "\n",
    "* Very handy when working with NumPy\n",
    "\n",
    "* No need to create VTK data files!\n",
    "\n",
    "* `PolyData`, `ImageData`, `StructuredGrid` , `UnstructuredGrid`\n"
   ]
  },
  {
   "cell_type": "markdown",
   "id": "a763b7d4",
   "metadata": {
    "slideshow": {
     "slide_type": "slide"
    }
   },
   "source": [
    "## Overview\n",
    "\n",
    "* Using `tvtk`  in the following\n",
    "\n",
    "* `tvtk`  uses VTK underneath\n",
    "\n",
    "* Much easier to use than raw VTK\n"
   ]
  },
  {
   "cell_type": "code",
   "execution_count": null,
   "id": "e8fe5448",
   "metadata": {},
   "outputs": [],
   "source": [
    "from tvtk.api import tvtk"
   ]
  },
  {
   "cell_type": "markdown",
   "id": "fc5d4b6f",
   "metadata": {
    "slideshow": {
     "slide_type": "slide"
    }
   },
   "source": [
    "## Image data: 2D\n"
   ]
  },
  {
   "cell_type": "code",
   "execution_count": null,
   "id": "36b2a0a2",
   "metadata": {
    "slideshow": {
     "slide_type": "fragment"
    }
   },
   "outputs": [],
   "source": [
    "# The scalar values.\n",
    "x, y = np.mgrid[-10:10:51j, -10:10:51j]\n",
    "r = np.sqrt(x**2 + y**2)\n",
    "z = 2.0*np.sin(r)  # Bessel function of order 0"
   ]
  },
  {
   "cell_type": "code",
   "execution_count": null,
   "id": "80556f52",
   "metadata": {},
   "outputs": [],
   "source": [
    "# Can't specify explicit points, they are implicit.\n",
    "# The volume specified using origin, spacing and dims.\n",
    "from tvtk.api import tvtk\n",
    "spoints = tvtk.ImageData(origin=(-10, -10, 0), spacing=(0.4, 0.4, 1),\n",
    "                         dimensions=(51, 51, 1))"
   ]
  },
  {
   "cell_type": "code",
   "execution_count": null,
   "id": "f1faedd0",
   "metadata": {
    "slideshow": {
     "slide_type": "fragment"
    }
   },
   "outputs": [],
   "source": [
    "# Transpose array data due to VTK's implicit ordering.\n",
    "# ravel it so the number of components is 1.\n",
    "spoints.point_data.scalars = z.T.ravel()\n",
    "spoints.point_data.scalars.name = 'scalar'"
   ]
  },
  {
   "cell_type": "markdown",
   "id": "4d385397",
   "metadata": {
    "slideshow": {
     "slide_type": "slide"
    }
   },
   "source": [
    "## Visualizing it\n"
   ]
  },
  {
   "cell_type": "code",
   "execution_count": null,
   "id": "d0f56536",
   "metadata": {
    "lines_to_next_cell": 2
   },
   "outputs": [],
   "source": [
    "mlab.clf()\n",
    "# Add the dataset to the pipeline\n",
    "src = mlab.pipeline.add_dataset(spoints)\n",
    "\n",
    "warp = mlab.pipeline.warp_scalar(src)\n",
    "surf = mlab.pipeline.surface(warp)\n",
    "surf"
   ]
  },
  {
   "cell_type": "markdown",
   "id": "4637de06",
   "metadata": {
    "slideshow": {
     "slide_type": "slide"
    }
   },
   "source": [
    "## Image data: 3D\n"
   ]
  },
  {
   "cell_type": "code",
   "execution_count": null,
   "id": "8d73a66c",
   "metadata": {},
   "outputs": [],
   "source": [
    "x, y, z = np.mgrid[-5:5:128j,-5:5:128j,\n",
    "                   -5:5:128j]\n",
    "scalars = np.sin(x*y*z)/(x*y*z)"
   ]
  },
  {
   "cell_type": "code",
   "execution_count": null,
   "id": "9a95d32d",
   "metadata": {},
   "outputs": [],
   "source": [
    "spoints = tvtk.ImageData(\n",
    "    origin=(-5.,-5,-5),\n",
    "    spacing=(10./127,10./127,10./127),\n",
    "    dimensions=(128,128,128)\n",
    ")"
   ]
  },
  {
   "cell_type": "code",
   "execution_count": null,
   "id": "2b544d34",
   "metadata": {},
   "outputs": [],
   "source": [
    "# The copy makes the data contiguous and the transpose\n",
    "# makes it suitable for display via tvtk.\n",
    "s = scalars.transpose().copy()\n",
    "spoints.point_data.scalars = s.ravel()\n",
    "spoints.point_data.scalars.name = 'scalars'"
   ]
  },
  {
   "cell_type": "markdown",
   "id": "f821ac5f",
   "metadata": {
    "slideshow": {
     "slide_type": "slide"
    }
   },
   "source": [
    "## Visualizing it\n"
   ]
  },
  {
   "cell_type": "code",
   "execution_count": null,
   "id": "6a036233",
   "metadata": {
    "lines_to_next_cell": 2
   },
   "outputs": [],
   "source": [
    "mlab.clf()\n",
    "# Add the dataset to the pipeline\n",
    "src = mlab.pipeline.add_dataset(spoints)\n",
    "\n",
    "cut = mlab.pipeline.scalar_cut_plane(src)\n",
    "contour = mlab.pipeline.iso_surface(src)\n",
    "contour"
   ]
  },
  {
   "cell_type": "markdown",
   "id": "977064ac",
   "metadata": {
    "slideshow": {
     "slide_type": "slide"
    }
   },
   "source": [
    "## Changing the data\n",
    "\n",
    "- Change the `s` array directly!\n"
   ]
  },
  {
   "cell_type": "code",
   "execution_count": null,
   "id": "bdc48538",
   "metadata": {},
   "outputs": [],
   "source": [
    "s[:64, ...] = (np.sin(x)/(x+ y+ z))[:64, ...]\n",
    "src.data_changed = True"
   ]
  },
  {
   "cell_type": "code",
   "execution_count": null,
   "id": "ec87be0f",
   "metadata": {},
   "outputs": [],
   "source": [
    "contour"
   ]
  },
  {
   "cell_type": "markdown",
   "id": "3010d443",
   "metadata": {
    "slideshow": {
     "slide_type": "slide"
    }
   },
   "source": [
    "## Adding more attributes\n",
    "\n",
    "- Note: `add_attribute` clobbers existing array with same name\n"
   ]
  },
  {
   "cell_type": "code",
   "execution_count": null,
   "id": "ab6117ff",
   "metadata": {},
   "outputs": [],
   "source": [
    "src.add_attribute(array, 'name', category='point')\n",
    "# See also:\n",
    "src.remove_attribute(name, category='point')\n",
    "src.rename_attribute(from_name, to_name, category='point')"
   ]
  },
  {
   "cell_type": "markdown",
   "id": "63cc3f9b",
   "metadata": {
    "slideshow": {
     "slide_type": "slide"
    }
   },
   "source": [
    "## Structured Grid\n"
   ]
  },
  {
   "cell_type": "code",
   "execution_count": null,
   "id": "8c1766dd",
   "metadata": {},
   "outputs": [],
   "source": [
    "r, th, z = np.mgrid[1:10:25j, 0:2*np.pi:51j, 0:5:25j]\n",
    "x, y = np.cos(th)*r, np.sin(th)*r\n",
    "scalar = x*x + y*y + z*z"
   ]
  },
  {
   "cell_type": "code",
   "execution_count": null,
   "id": "2d73b530",
   "metadata": {},
   "outputs": [],
   "source": [
    "pts = np.empty(z.shape + (3,))\n",
    "pts[...,0] = x\n",
    "pts[...,1] = y\n",
    "pts[...,2] = z"
   ]
  },
  {
   "cell_type": "code",
   "execution_count": null,
   "id": "b1fd7c81",
   "metadata": {},
   "outputs": [],
   "source": [
    "pts = pts.transpose(2, 1, 0, 3).copy()\n",
    "pts.shape = pts.size//3, 3"
   ]
  },
  {
   "cell_type": "code",
   "execution_count": null,
   "id": "4070c1e3",
   "metadata": {
    "slideshow": {
     "slide_type": "fragment"
    }
   },
   "outputs": [],
   "source": [
    "sgrid = tvtk.StructuredGrid(dimensions=x.shape)\n",
    "sgrid.points = pts\n",
    "sgrid.point_data.scalars = np.ravel(scalar.T.copy())\n",
    "sgrid.point_data.scalars.name = 'scalars'"
   ]
  },
  {
   "cell_type": "markdown",
   "id": "02c90d24",
   "metadata": {
    "slideshow": {
     "slide_type": "slide"
    }
   },
   "source": [
    "## Visualizing it\n"
   ]
  },
  {
   "cell_type": "code",
   "execution_count": null,
   "id": "db55ba8a",
   "metadata": {
    "lines_to_next_cell": 2
   },
   "outputs": [],
   "source": [
    "mlab.clf()\n",
    "# Add the dataset to the pipeline\n",
    "src = mlab.pipeline.add_dataset(sgrid)\n",
    "\n",
    "plane = mlab.pipeline.grid_plane(src)\n",
    "plane.grid_plane.axis = 'z'\n",
    "c_plane = mlab.pipeline.contour_grid_plane(src)\n",
    "c_plane.enable_contours = False\n",
    "\n",
    "iso = mlab.pipeline.iso_surface(src)\n",
    "iso"
   ]
  },
  {
   "cell_type": "markdown",
   "id": "d8bb49d7",
   "metadata": {
    "slideshow": {
     "slide_type": "slide"
    }
   },
   "source": [
    "## PolyData\n"
   ]
  },
  {
   "cell_type": "code",
   "execution_count": null,
   "id": "1d199382",
   "metadata": {},
   "outputs": [],
   "source": [
    "# The points in 3D.\n",
    "points = np.array([[0.,0,0], [1,0,0], [0,1,0], [0,0,1]])\n",
    "# Connectivity via indices to the points.\n",
    "triangles = np.array([[0,1,3], [0,3,2], [1,2,3], [0,2,1]])\n",
    "# Creating the data object."
   ]
  },
  {
   "cell_type": "code",
   "execution_count": null,
   "id": "f7b5bb99",
   "metadata": {
    "slideshow": {
     "slide_type": "fragment"
    }
   },
   "outputs": [],
   "source": [
    "mesh = tvtk.PolyData()\n",
    "mesh.points = points # the points\n",
    "mesh.polys = triangles # triangles for connectivity.\n",
    "# For lines/verts: mesh.lines = lines; mesh.verts = verts"
   ]
  },
  {
   "cell_type": "code",
   "execution_count": null,
   "id": "b952919f",
   "metadata": {},
   "outputs": [],
   "source": [
    "# Now create some point data.\n",
    "temperature = np.array([10., 20. ,30., 40.], 'f')\n",
    "mesh.point_data.scalars = temperature\n",
    "mesh.point_data.scalars.name = 'temperature'"
   ]
  },
  {
   "cell_type": "code",
   "execution_count": null,
   "id": "fea141f7",
   "metadata": {},
   "outputs": [],
   "source": [
    "# Some vectors.\n",
    "velocity = np.array([[0.,0.,0], [1.,0,0], [0.,1,0], [0.,0,1]])\n",
    "mesh.point_data.vectors = velocity\n",
    "mesh.point_data.vectors.name = 'velocity'"
   ]
  },
  {
   "cell_type": "markdown",
   "id": "ada2b15f",
   "metadata": {
    "slideshow": {
     "slide_type": "slide"
    }
   },
   "source": [
    "## Visualizing it\n"
   ]
  },
  {
   "cell_type": "code",
   "execution_count": null,
   "id": "db686bc4",
   "metadata": {
    "lines_to_next_cell": 2
   },
   "outputs": [],
   "source": [
    "mlab.clf()\n",
    "src = mlab.pipeline.add_dataset(mesh)\n",
    "\n",
    "surf = mlab.pipeline.surface(src)\n",
    "vec = mlab.pipeline.vectors(src)\n",
    "vec"
   ]
  },
  {
   "cell_type": "markdown",
   "id": "2f4bde96",
   "metadata": {
    "slideshow": {
     "slide_type": "slide"
    }
   },
   "source": [
    "## Unstructured Grid\n"
   ]
  },
  {
   "cell_type": "code",
   "execution_count": null,
   "id": "7d3c1f19",
   "metadata": {},
   "outputs": [],
   "source": [
    "points = np.array([[0.,0.,0], [1.,0,0], [0.,1,0], [0.,0,1]])\n",
    "tets = np.array([[0, 1, 2, 3]])\n",
    "tet_type = tvtk.Tetra().cell_type # VTK_TETRA == 10"
   ]
  },
  {
   "cell_type": "code",
   "execution_count": null,
   "id": "aa720333",
   "metadata": {},
   "outputs": [],
   "source": [
    "ug = tvtk.UnstructuredGrid(points=points)\n",
    "# This sets up the cells.\n",
    "ug.set_cells(tet_type, tets)"
   ]
  },
  {
   "cell_type": "code",
   "execution_count": null,
   "id": "ab62f0e9",
   "metadata": {},
   "outputs": [],
   "source": [
    "# Attribute data.\n",
    "temperature = np.array([10, 20 ,20, 30], 'f')\n",
    "ug.point_data.scalars = temperature\n",
    "ug.point_data.scalars.name = 'temperature'\n",
    "# Some vectors.\n",
    "velocity = np.array([[0.,0,0], [1,0,0], [0,1,0], [0,0,1]])\n",
    "ug.point_data.vectors = velocity\n",
    "ug.point_data.vectors.name = 'velocity'"
   ]
  },
  {
   "cell_type": "markdown",
   "id": "70b0d987",
   "metadata": {
    "slideshow": {
     "slide_type": "slide"
    }
   },
   "source": [
    "## Visualizing it\n"
   ]
  },
  {
   "cell_type": "code",
   "execution_count": null,
   "id": "a7df36f4",
   "metadata": {
    "lines_to_next_cell": 2
   },
   "outputs": [],
   "source": [
    "mlab.clf()\n",
    "# Add the dataset to the pipeline\n",
    "src = mlab.pipeline.add_dataset(ug)\n",
    "\n",
    "surf = mlab.pipeline.surface(src)\n",
    "vec = mlab.pipeline.vectors(src)\n",
    "vec"
   ]
  },
  {
   "cell_type": "markdown",
   "id": "d31fcb8c",
   "metadata": {
    "slideshow": {
     "slide_type": "slide"
    }
   },
   "source": [
    "## Saving data to file\n",
    "\n",
    "* Use `tvtk.api.write_data`\n",
    "* Automatically picks a writer\n"
   ]
  },
  {
   "cell_type": "code",
   "execution_count": null,
   "id": "0d5a7cbd",
   "metadata": {},
   "outputs": [],
   "source": [
    "from tvtk.api import write_data\n",
    "write_data(ug, '/tmp/ug.vtu')\n",
    "write_data(ug, '/tmp/ug.vtk')"
   ]
  }
 ],
 "metadata": {
  "kernelspec": {
   "display_name": "Python 3 (ipykernel)",
   "language": "python",
   "name": "python3"
  }
 },
 "nbformat": 4,
 "nbformat_minor": 5
}
