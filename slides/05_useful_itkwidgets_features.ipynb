{
 "cells": [
  {
   "cell_type": "markdown",
   "id": "ef80efcc",
   "metadata": {
    "slideshow": {
     "slide_type": "slide"
    }
   },
   "source": [
    "## Pythonic 3D visualization: Some useful features\n",
    "\n",
    "### Part 2\n",
    "\n",
    "**Prabhu Ramachandran and Matt McCormick**\n",
    "\n",
    "**SciPy 2022**\n"
   ]
  },
  {
   "cell_type": "markdown",
   "id": "c3bc1c4a",
   "metadata": {
    "slideshow": {
     "slide_type": "slide"
    }
   },
   "source": [
    "## Outline\n",
    "\n",
    "- **`itkwidgets` notebook backend for `mayavi`** $\\Longleftarrow$\n",
    "\n",
    "- `itkwidgets` on *JupyterLite*\n",
    "\n",
    "- *TensorBoard* and deep learning\n"
   ]
  },
  {
   "cell_type": "markdown",
   "id": "7b82bd60",
   "metadata": {
    "slideshow": {
     "slide_type": "slide"
    }
   },
   "source": [
    "### Mayavi on Jupyter\n",
    "\n",
    "Use either the `'ipy'` or `'itk'` backends.  The `'ipy'` mode also relies on off-screen support but is the default and most powerful of the options.  It also does not require WebGL support in your browser.\n",
    "\n",
    "For the default `'ipy'` backend, one also requires to have `ipywidgets` and `ipyevents` installed.\n",
    "\n",
    "The `'itk'` backend is entirely client-side, and requires that you have `'itkwidgets'` installed."
   ]
  },
  {
   "cell_type": "code",
   "execution_count": null,
   "id": "95b6ce20",
   "metadata": {
    "slideshow": {
     "slide_type": "slide"
    }
   },
   "outputs": [],
   "source": [
    "# Always start with this.\n",
    "from mayavi import mlab\n",
    "mlab.init_notebook()"
   ]
  },
  {
   "cell_type": "code",
   "execution_count": null,
   "id": "12d84d44",
   "metadata": {
    "slideshow": {
     "slide_type": "slide"
    }
   },
   "outputs": [],
   "source": [
    "s = mlab.test_contour3d()\n",
    "scp = mlab.pipeline.scalar_cut_plane(s)\n",
    "s.module_manager.scalar_lut_manager.show_scalar_bar = True\n",
    "s"
   ]
  },
  {
   "cell_type": "markdown",
   "id": "e1644a1e",
   "metadata": {
    "slideshow": {
     "slide_type": "fragment"
    }
   },
   "source": [
    "Note that if all goes well, you should be able to interact with the above just as you would with a typical Mayavi UI widget.  You should be able to interact with the camera, with the cut plane widget and with the scalar bar.|"
   ]
  },
  {
   "cell_type": "markdown",
   "id": "e96fcde3",
   "metadata": {
    "slideshow": {
     "slide_type": "slide"
    }
   },
   "source": [
    "Note that you will need to create a new figure if you want a different visualization.  In the following we show the same figure as above, note that interacting with one will automatically update the other as they are the same figure."
   ]
  },
  {
   "cell_type": "code",
   "execution_count": null,
   "id": "bd58d0b8",
   "metadata": {
    "slideshow": {
     "slide_type": "fragment"
    }
   },
   "outputs": [],
   "source": [
    "mlab.gcf()"
   ]
  },
  {
   "cell_type": "markdown",
   "id": "9ed77d15",
   "metadata": {
    "slideshow": {
     "slide_type": "fragment"
    }
   },
   "source": [
    "Note that unlike the other backends, if you call `mlab.clf()`, it will clear all the widgets for that particular figure -- since they are all the same."
   ]
  },
  {
   "cell_type": "markdown",
   "id": "9c7721c8",
   "metadata": {
    "slideshow": {
     "slide_type": "slide"
    }
   },
   "source": [
    "### itk backend\n",
    "\n",
    "When initializing the notebook, use the itk backend."
   ]
  },
  {
   "cell_type": "code",
   "execution_count": null,
   "id": "a00afdfe",
   "metadata": {
    "slideshow": {
     "slide_type": "fragment"
    }
   },
   "outputs": [],
   "source": [
    "mlab.init_notebook('itk')"
   ]
  },
  {
   "cell_type": "code",
   "execution_count": null,
   "id": "427ed86a",
   "metadata": {
    "slideshow": {
     "slide_type": "slide"
    }
   },
   "outputs": [],
   "source": [
    "mlab.figure()\n",
    "# Note the use of the figure here to create a new visualization.\n",
    "s = mlab.test_points3d()\n",
    "s"
   ]
  },
  {
   "cell_type": "code",
   "execution_count": null,
   "id": "073df5db",
   "metadata": {
    "slideshow": {
     "slide_type": "slide"
    }
   },
   "outputs": [],
   "source": [
    "mlab.clf()\n",
    "mlab.test_contour_surf()"
   ]
  },
  {
   "cell_type": "code",
   "execution_count": null,
   "id": "70655780",
   "metadata": {
    "slideshow": {
     "slide_type": "slide"
    }
   },
   "outputs": [],
   "source": [
    "mlab.clf()\n",
    "s = mlab.test_mesh_sphere()\n",
    "s"
   ]
  },
  {
   "cell_type": "code",
   "execution_count": null,
   "id": "9d9537bf",
   "metadata": {
    "slideshow": {
     "slide_type": "slide"
    }
   },
   "outputs": [],
   "source": [
    "mlab.clf()\n",
    "mlab.test_contour3d()"
   ]
  },
  {
   "cell_type": "markdown",
   "id": "d709e439",
   "metadata": {
    "slideshow": {
     "slide_type": "slide"
    }
   },
   "source": [
    "## Outline\n",
    "\n",
    "- `itkwidgets` notebook backend for `mayavi`\n",
    "\n",
    "- **`itkwidgets` on *JupyterLite*** $\\Longleftarrow$\n",
    "\n",
    "- *TensorBoard* and deep learning\n"
   ]
  },
  {
   "cell_type": "markdown",
   "id": "140b0e2e",
   "metadata": {
    "slideshow": {
     "slide_type": "slide"
    }
   },
   "source": [
    "### JupyterLite\n",
    "\n",
    "![JupyterLite](https://jupyterlite.readthedocs.io/en/latest/_static/wordmark.svg)\n",
    "\n",
    "[JupyterLite](https://jupyterlite.readthedocs.io/en/latest/) is a JupyterLab distribution that **runs entirely in the browser** built from the ground-up using JupyterLab components and extensions."
   ]
  },
  {
   "cell_type": "markdown",
   "id": "d870f05c",
   "metadata": {
    "slideshow": {
     "slide_type": "slide"
    }
   },
   "source": [
    "![Pyodide](https://pyodide.org/en/stable/_static/pyodide-logo.png)\n",
    "\n",
    "Example kernels that can be run in JupyterLite:\n",
    "    \n",
    "- [p5.js](https://p5js.org/): *a JavaScript library for creative coding, with a focus on making coding accessible and inclusive for artists, designers, educators, beginners, and anyone else!*\n",
    "- JavaScript: a basic JavaScript kernel\n",
    "- [Pyodide](https://pyodide.org/en/stable/): Pyodide is a Python distribution for the browser and Node.js based on WebAssembly\n",
    "- [xeus-python](https://github.com/jupyterlite/xeus-python-kernel): The xeus-python Python kernel for JupyterLite running in the browser"
   ]
  },
  {
   "cell_type": "markdown",
   "id": "177a0ac3",
   "metadata": {
    "slideshow": {
     "slide_type": "slide"
    }
   },
   "source": [
    "### Reproducibility Three-legged Stool\n",
    "\n",
    "![reproducibility stool](./MEDIA/reproducibility_stool/reproducibility_stool.png)\n",
    "\n",
    "We can think of **reproducibility**, the **core of the scientific method**, as a *three-legged stool* held up by equally important legs."
   ]
  },
  {
   "cell_type": "markdown",
   "id": "39b8a34a",
   "metadata": {
    "slideshow": {
     "slide_type": "slide"
    }
   },
   "source": [
    "### Reproducibility Three-legged Stool - Open Science\n",
    "\n",
    "![reproducibility stool](./MEDIA/reproducibility_stool/reproducibility_stool_open_science.png)\n",
    "\n",
    "One of those legs is **Open Science**, the availability of:\n",
    "\n",
    "- Code\n",
    "- Data\n",
    "- Narratives"
   ]
  },
  {
   "cell_type": "markdown",
   "id": "deb3e842",
   "metadata": {
    "slideshow": {
     "slide_type": "slide"
    }
   },
   "source": [
    "### Reproducibility Three-legged Stool - Accessibility, Sustainability\n",
    "\n",
    "![reproducibility stool](./MEDIA/reproducibility_stool/reproducibility_stool_accessibility_sustainability.png)\n",
    "\n",
    "However, equality important legs are:"
   ]
  },
  {
   "cell_type": "markdown",
   "id": "5457b121",
   "metadata": {
    "slideshow": {
     "slide_type": "fragment"
    }
   },
   "source": [
    "#### Accessibility\n",
    "\n",
    "- Is the code written in an easy-to-understand language, like **Python**?\n",
    "- Is the data in an **open standard format** that can be easily parsed?\n",
    "- Is possible to access the **compute environment dependencies**?"
   ]
  },
  {
   "cell_type": "markdown",
   "id": "44e328ef",
   "metadata": {
    "slideshow": {
     "slide_type": "slide"
    }
   },
   "source": [
    "### Reproducibility Three-legged Stool - Accessibility, Sustainability\n",
    "\n",
    "![reproducibility stool](./MEDIA/reproducibility_stool/reproducibility_stool_accessibility_sustainability.png)\n",
    "\n",
    "However, equality important legs are:"
   ]
  },
  {
   "cell_type": "markdown",
   "id": "b19ef70d",
   "metadata": {
    "slideshow": {
     "slide_type": "fragment"
    }
   },
   "source": [
    "#### Sustainability\n",
    "\n",
    "- Will the data, code, compute environment be available for a **long period of time**?\n",
    "- Does reproducibilty require **minimal resources**?"
   ]
  },
  {
   "cell_type": "markdown",
   "id": "f093d02f",
   "metadata": {
    "slideshow": {
     "slide_type": "slide"
    }
   },
   "source": [
    "### Try itkwidgets with JupyterLite!\n",
    "\n",
    "Available in the itkwidgets-1.X pre-release.\n",
    "\n",
    "<a href=\"https://itkwidgets.readthedocs.io/en/latest/_static/retro/notebooks/?path=Hello3DWorld.ipynb\" target=\"_blank\">\n",
    "\n",
    "![Jupyterlite](https://jupyterlite.rtfd.io/en/latest/_static/badge.svg)\n",
    "\n",
    "![Hello3DWorld](./MEDIA/Hello3DWorldJupyterLite.gif)\n",
    "</a>"
   ]
  },
  {
   "cell_type": "markdown",
   "id": "d860a010",
   "metadata": {
    "slideshow": {
     "slide_type": "slide"
    }
   },
   "source": [
    "### Exercise: Save the notebook and a file and reload the page\n",
    "\n",
    "- Do the changes persist?\n",
    "- Where are they stored?"
   ]
  },
  {
   "cell_type": "markdown",
   "id": "991f0a76",
   "metadata": {
    "slideshow": {
     "slide_type": "slide"
    }
   },
   "source": [
    "## Outline\n",
    "\n",
    "- `itkwidgets` notebook backend for `mayavi`\n",
    "\n",
    "- `itkwidgets` on *JupyterLite*\n",
    "\n",
    "- ***TensorBoard* and deep learning** $\\Longleftarrow$\n"
   ]
  },
  {
   "cell_type": "markdown",
   "id": "9c6e52dd",
   "metadata": {
    "slideshow": {
     "slide_type": "slide"
    }
   },
   "source": [
    "### TensorBoardPlugin3D - 3D Tensor Visualization\n",
    "\n",
    "\n",
    "**TensorBoardPlugin3D** is an open-source *TensorBoard* plugin that supports\n",
    "visualizing 3D output within the TensorBoard application, JupyterLab,\n",
    "Google Colab, and SageMaker.\n",
    "\n",
    "TensorBoardPlugin3D is built on the same technology as itkwidgets. However, the tool is targetted towards **training deep learning neural networks** with *tensorflow* or *pytorch*, for example."
   ]
  },
  {
   "cell_type": "markdown",
   "id": "87daebb8",
   "metadata": {
    "slideshow": {
     "slide_type": "slide"
    }
   },
   "source": [
    "Install the [PyPI package](https://pypi.python.org/pypi/tensorboard-plugin-3d) with:\n",
    "\n",
    "```sh\n",
    "pip install tensorboard-plugin-3d\n",
    "```"
   ]
  },
  {
   "cell_type": "markdown",
   "id": "82d22acb",
   "metadata": {
    "slideshow": {
     "slide_type": "slide"
    }
   },
   "source": [
    "## MONAI examples\n",
    "\n",
    "![MONAI](https://monai.io/assets/img/MONAI-logo_color_full.png)\n",
    "\n",
    "### Medical Open Network for Artificial Intelligence\n",
    "\n",
    "The Spleen Segmentation 3D tutorial shows how to integrate [MONAI](https://monai.io/) into an existing PyTorch medical DL program and demonstrates using TensorBoardPlugin3D to view an image with a label to show the input data (shown in the first image) or to compare the model output with the input.\n",
    "\n",
    "[![Open in Colab](https://colab.research.google.com/assets/colab-badge.svg)](https://colab.research.google.com/github/KitwareMedical/tensorboard-plugin-3d/blob/main/demo/notebook/cached_spleen_segmentation_3d.ipynb)\n",
    "![Spleen Image with Label](https://github.com/KitwareMedical/tensorboard-plugin-3d/blob/main/docs/images/spleen_with_label.png?raw=true)"
   ]
  },
  {
   "cell_type": "markdown",
   "id": "e4a105b0",
   "metadata": {
    "slideshow": {
     "slide_type": "slide"
    }
   },
   "source": [
    "## MONAI examples\n",
    "\n",
    "![MONAI](https://monai.io/assets/img/MONAI-logo_color_full.png)\n",
    "\n",
    "### Medical Open Network for Artificial Intelligence\n",
    "\n",
    "The Spleen Segmentation 3D tutorial shows how to integrate [MONAI](https://monai.io/) into an existing PyTorch medical DL program and demonstrates using TensorBoardPlugin3D to view an image with a label to show the input data (shown in the first image) or to compare the model output with the input.\n",
    "\n",
    "[![Open in Colab](https://colab.research.google.com/assets/colab-badge.svg)](https://colab.research.google.com/github/KitwareMedical/tensorboard-plugin-3d/blob/main/demo/notebook/cached_spleen_segmentation_3d.ipynb)\n",
    "![Spleen Output](https://github.com/KitwareMedical/tensorboard-plugin-3d/blob/main/docs/images/label_with_output.gif?raw=true)"
   ]
  },
  {
   "cell_type": "markdown",
   "id": "8506faf3",
   "metadata": {
    "slideshow": {
     "slide_type": "slide"
    }
   },
   "source": [
    "## MONAI examples\n",
    "\n",
    "![MONAI](https://monai.io/assets/img/MONAI-logo_color_full.png)\n",
    "\n",
    "### Medical Open Network for Artificial Intelligence\n",
    "The UNet Segmentation 3D Ignite notebook provides a simple, fast-running notebook with demo data. If you're looking for a quick way to get started and see the plugin in action this is a great place to start. [![Open in Colab](https://colab.research.google.com/assets/colab-badge.svg)](https://colab.research.google.com/github/KitwareMedical/tensorboard-plugin-3d/blob/main/demo/notebook/unet_segmentation_3d_ignite.ipynb)\n",
    "![UNet Output](https://github.com/KitwareMedical/tensorboard-plugin-3d/blob/main/docs/images/unet.gif?raw=true)"
   ]
  },
  {
   "cell_type": "markdown",
   "id": "78de33ea",
   "metadata": {
    "slideshow": {
     "slide_type": "slide"
    }
   },
   "source": [
    "See the [tensorboard-plugin-3d documentation](https://tensorboardplugin3d.readthedocs.io/en/latest/)\n",
    "for a guide on getting started."
   ]
  }
 ],
 "metadata": {
  "kernelspec": {
   "display_name": "Python 3 (ipykernel)",
   "language": "python",
   "name": "python3"
  }
 },
 "nbformat": 4,
 "nbformat_minor": 5
}
