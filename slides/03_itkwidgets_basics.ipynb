{
 "cells": [
  {
   "cell_type": "markdown",
   "id": "0bad7723",
   "metadata": {
    "slideshow": {
     "slide_type": "slide"
    }
   },
   "source": [
    "# itkwidgets basics\n",
    "\n",
    "**Prabhu Ramachandran and Matt McCormick**\n",
    "\n",
    "**SciPy 2022**\n"
   ]
  },
  {
   "cell_type": "markdown",
   "id": "f47bcc8b",
   "metadata": {
    "lines_to_next_cell": 2,
    "slideshow": {
     "slide_type": "slide"
    }
   },
   "source": [
    "## Outline\n",
    "\n",
    "- **Using itkwidgets's `view`** $\\Longleftarrow$\n",
    "- SciPy **integrations**\n",
    "- Visualization **parameters**\n"
   ]
  },
  {
   "cell_type": "markdown",
   "id": "92067786",
   "metadata": {
    "slideshow": {
     "slide_type": "slide"
    }
   },
   "source": [
    "## Getting started with `view`\n"
   ]
  },
  {
   "cell_type": "code",
   "execution_count": null,
   "id": "a4c8093b",
   "metadata": {},
   "outputs": [],
   "source": [
    "from itkwidgets import view"
   ]
  },
  {
   "cell_type": "markdown",
   "id": "f4f6d483",
   "metadata": {
    "slideshow": {
     "slide_type": "slide"
    }
   },
   "source": [
    "### Caveats\n",
    "\n",
    "\n",
    "* itkwidgets *0.X* works in the Jupyter Notebook, but not JupyterLab\n",
    "* itkwidgets *1.X* works in JupyterLab, but not all the functionality of 0.X is available at this time"
   ]
  },
  {
   "cell_type": "markdown",
   "id": "020fe7c7",
   "metadata": {
    "slideshow": {
     "slide_type": "slide"
    }
   },
   "source": [
    "### 2D Images"
   ]
  },
  {
   "cell_type": "code",
   "execution_count": null,
   "id": "4087e519",
   "metadata": {
    "slideshow": {
     "slide_type": "-"
    }
   },
   "outputs": [],
   "source": [
    "from PIL import Image\n",
    "import numpy as np\n",
    "\n",
    "image = np.asarray(Image.open('./data/cthead1.png'))\n",
    "    \n",
    "view(image)"
   ]
  },
  {
   "cell_type": "markdown",
   "id": "8c1975c8",
   "metadata": {
    "slideshow": {
     "slide_type": "-"
    }
   },
   "source": [
    "### Exercise\n",
    "\n",
    "Explore UI for:\n",
    "\n",
    "- `vmin`, `vmax`\n",
    "- `cmap`\n",
    "- Region of interest\n",
    "- Screenshot\n",
    "- Fullscreen\n"
   ]
  },
  {
   "cell_type": "markdown",
   "id": "08838792",
   "metadata": {
    "slideshow": {
     "slide_type": "slide"
    }
   },
   "source": [
    "### 3D Images"
   ]
  },
  {
   "cell_type": "code",
   "execution_count": null,
   "id": "b21629b6",
   "metadata": {},
   "outputs": [],
   "source": [
    "x, y, z = np.mgrid[-5:5:64j, -5:5:64j, -5:5:64j]\n",
    "vol = x*x*0.5 + y*y + z*z*2\n",
    "view(vol)"
   ]
  },
  {
   "cell_type": "markdown",
   "id": "bdac7db7",
   "metadata": {
    "slideshow": {
     "slide_type": "-"
    }
   },
   "source": [
    "### Exercise\n",
    "\n",
    "Explore UI for:\n",
    "\n",
    "- Slicing planes\n",
    "- Slice views\n"
   ]
  },
  {
   "cell_type": "code",
   "execution_count": null,
   "id": "0662af5b",
   "metadata": {
    "slideshow": {
     "slide_type": "slide"
    }
   },
   "outputs": [],
   "source": [
    "x, y, z = np.mgrid[-8:8:30j, -8:8:30j, -8:8:30j]\n",
    "vol = np.sin(x*y*z) / (x*y*z)\n",
    "view(vol)"
   ]
  },
  {
   "cell_type": "markdown",
   "id": "fa512826",
   "metadata": {
    "lines_to_next_cell": 2,
    "slideshow": {
     "slide_type": "-"
    }
   },
   "source": [
    "\n",
    "### Exercise\n",
    "\n",
    "Explore volume rendering UI for:\n",
    "\n",
    "- Shadow\n",
    "- Sample spacing\n",
    "- Blend mode\n"
   ]
  },
  {
   "cell_type": "code",
   "execution_count": null,
   "id": "09a7dab6",
   "metadata": {},
   "outputs": [],
   "source": [
    "with open('./data/humeral_distal_epiphysis.npy', 'rb') as f:\n",
    "    vol = np.load(f)\n",
    "view(vol)"
   ]
  },
  {
   "cell_type": "markdown",
   "id": "438b4b57",
   "metadata": {
    "lines_to_next_cell": 2,
    "slideshow": {
     "slide_type": "subslide"
    }
   },
   "source": [
    "\n",
    "### Exercise\n",
    "\n",
    "Explore volume rendering UI for:\n",
    "\n",
    "- Gradient opacity\n",
    "- Opacity transfer function"
   ]
  },
  {
   "cell_type": "markdown",
   "id": "5c061d02",
   "metadata": {
    "slideshow": {
     "slide_type": "slide"
    }
   },
   "source": [
    "### Point sets"
   ]
  },
  {
   "cell_type": "code",
   "execution_count": null,
   "id": "3044bcd1",
   "metadata": {},
   "outputs": [],
   "source": [
    "number_of_points = 3000\n",
    "\n",
    "gaussian_1_mean = [0.0, 0.0, 0.0]\n",
    "gaussian_1_cov = [[1.0, 0.0, 0.0], [0.0, 2.0, 0.0], [0.0, 0.0, 0.5]]\n",
    "point_set_1 = np.random.multivariate_normal(gaussian_1_mean, gaussian_1_cov,\n",
    "        number_of_points)\n",
    "\n",
    "gaussian_2_mean = [4.0, 6.0, 7.0]\n",
    "gaussian_2_cov = [[2.0, 0.0, 0.0], [0.0, 2.0, 0.0], [0.0, 0.0, 1.5]]\n",
    "point_set_2 = np.random.multivariate_normal(gaussian_2_mean, gaussian_2_cov,\n",
    "        number_of_points)\n",
    "\n",
    "gaussian_3_mean = [4.0, 0.0, 7.0]\n",
    "gaussian_3_cov = [[4.0, 0.0, 0.0], [0.0, 1.0, 0.0], [0.0, 0.0, 3.5]]\n",
    "point_set_3 = np.random.multivariate_normal(gaussian_3_mean, gaussian_3_cov,\n",
    "        number_of_points)                                          "
   ]
  },
  {
   "cell_type": "code",
   "execution_count": null,
   "id": "01460bdd",
   "metadata": {
    "slideshow": {
     "slide_type": "slide"
    }
   },
   "outputs": [],
   "source": [
    "view(point_sets=[point_set_1, point_set_2, point_set_3])"
   ]
  },
  {
   "cell_type": "markdown",
   "id": "11f7df6c",
   "metadata": {
    "lines_to_next_cell": 2,
    "slideshow": {
     "slide_type": "-"
    }
   },
   "source": [
    "\n",
    "### Exercise\n",
    "\n",
    "Explore volume rendering UI for:\n",
    "\n",
    "- Color\n",
    "- Representation\n",
    "- Size"
   ]
  },
  {
   "cell_type": "markdown",
   "id": "78fe630d",
   "metadata": {
    "slideshow": {
     "slide_type": "slide"
    }
   },
   "source": [
    "### Geometry"
   ]
  },
  {
   "cell_type": "code",
   "execution_count": null,
   "id": "e5ddaa04",
   "metadata": {},
   "outputs": [],
   "source": [
    "from mayavi import mlab\n",
    "mlab.options.offscreen = True\n",
    "\n",
    "pi = np.pi\n",
    "cos = np.cos\n",
    "sin = np.sin\n",
    "dphi, dtheta = pi / 250.0, pi / 250.0\n",
    "[phi, theta] = np.mgrid[0:pi + dphi * 1.5:dphi,\n",
    "                        0:2 * pi + dtheta * 1.5:dtheta]\n",
    "m0 = 4\n",
    "m1 = 3\n",
    "m2 = 2\n",
    "m3 = 3\n",
    "m4 = 6\n",
    "m5 = 2\n",
    "m6 = 6\n",
    "m7 = 4\n",
    "r = sin(m0 * phi) ** m1 + cos(m2 * phi) ** m3 + \\\n",
    "    sin(m4 * theta) ** m5 + cos(m6 * theta) ** m7\n",
    "x = r * sin(phi) * cos(theta)\n",
    "y = r * cos(phi)\n",
    "z = r * sin(phi) * sin(theta)\n",
    "\n",
    "mesh = mlab.mesh(x, y, z)\n",
    "\n",
    "view(actors=mesh, rotate=True, ui_collapsed=True)"
   ]
  },
  {
   "cell_type": "markdown",
   "id": "25735d31",
   "metadata": {
    "slideshow": {
     "slide_type": "-"
    }
   },
   "source": [
    "### Exercise\n",
    "\n",
    "Explore UI for:\n",
    "\n",
    "- Representation\n",
    "- Opacity\n",
    "- Axes"
   ]
  },
  {
   "cell_type": "markdown",
   "id": "8dbf9eab",
   "metadata": {
    "lines_to_next_cell": 2,
    "slideshow": {
     "slide_type": "slide"
    }
   },
   "source": [
    "## Outline\n",
    "\n",
    "- **Using itkwidgets's `view`** \n",
    "- SciPy **integrations**  $\\Longleftarrow$\n",
    "- Visualization **parameters**\n"
   ]
  },
  {
   "cell_type": "markdown",
   "id": "7d12f841",
   "metadata": {
    "slideshow": {
     "slide_type": "slide"
    }
   },
   "source": [
    "### Example integration: PyVista\n"
   ]
  },
  {
   "cell_type": "code",
   "execution_count": null,
   "id": "058d06ce",
   "metadata": {},
   "outputs": [],
   "source": [
    "import sys\n",
    "!{sys.executable} -m pip install pyvista"
   ]
  },
  {
   "cell_type": "code",
   "execution_count": null,
   "id": "e10ddbff",
   "metadata": {
    "slideshow": {
     "slide_type": "slide"
    }
   },
   "outputs": [],
   "source": [
    "import pyvista as pv\n",
    "from pyvista import examples\n",
    "\n",
    "vol = examples.download_knee_full()\n",
    "\n",
    "view(vol, geometries=vol.contour())"
   ]
  },
  {
   "cell_type": "markdown",
   "id": "fadb555a",
   "metadata": {
    "slideshow": {
     "slide_type": "slide"
    }
   },
   "source": [
    "### Available integrations\n",
    "\n",
    "- NumPy\n",
    "- mayavi\n",
    "- ITK\n",
    "- SimpleITK\n",
    "- Dask\n",
    "- VTK\n",
    "- pyvista\n",
    "- vido\n",
    "- pyimagej\n",
    "- zarr\n",
    "- xarray\n",
    "- pytorch"
   ]
  },
  {
   "cell_type": "markdown",
   "id": "7298443f",
   "metadata": {
    "lines_to_next_cell": 2,
    "slideshow": {
     "slide_type": "slide"
    }
   },
   "source": [
    "## Outline\n",
    "\n",
    "- **Using itkwidgets's `view`**\n",
    "- SciPy **integrations**\n",
    "- Visualization **parameters** $\\Longleftarrow$\n"
   ]
  },
  {
   "cell_type": "markdown",
   "id": "ac38ba98",
   "metadata": {
    "slideshow": {
     "slide_type": "slide"
    }
   },
   "source": [
    "### Pass visualization parameter on viewer instantiation\n"
   ]
  },
  {
   "cell_type": "code",
   "execution_count": null,
   "id": "dbfa3032",
   "metadata": {},
   "outputs": [],
   "source": [
    "with open('./data/humeral_distal_epiphysis.npy', 'rb') as f:\n",
    "    vol = np.load(f)\n",
    "    \n",
    "viewer = view(vol, gradient_opacity=0.9)\n",
    "viewer"
   ]
  },
  {
   "cell_type": "markdown",
   "id": "364c7661",
   "metadata": {
    "slideshow": {
     "slide_type": "fragment"
    }
   },
   "source": [
    "To change the colormap from the widget user interface, select the desired colormap use the dropdown above the transfer function editor."
   ]
  },
  {
   "cell_type": "markdown",
   "id": "71193815",
   "metadata": {
    "slideshow": {
     "slide_type": "fragment"
    }
   },
   "source": [
    "We change the value of the colormap by assigning the `cmap` property to the desired *itkwidgets* colormap string identifier. This is a `list` where elements in the list are colormaps for image components / channels."
   ]
  },
  {
   "cell_type": "code",
   "execution_count": null,
   "id": "d784614c",
   "metadata": {},
   "outputs": [],
   "source": [
    "viewer.cmap = ['gist_earth',]"
   ]
  },
  {
   "cell_type": "markdown",
   "id": "8c777897",
   "metadata": {
    "slideshow": {
     "slide_type": "slide"
    }
   },
   "source": [
    "Or, specify a custom colormap with an *Nx3* NumPy array.\n",
    "\n",
    "The colormap is specified with a series of `[red, blue, green]` values ranging from 0.0 to 1.0.\n",
    "\n",
    "For example, to manually create a grayscale colormap:"
   ]
  },
  {
   "cell_type": "code",
   "execution_count": null,
   "id": "2e0fcfb0",
   "metadata": {
    "slideshow": {
     "slide_type": "-"
    }
   },
   "outputs": [],
   "source": [
    "colormap = np.array([[0.0, 0.0, 0.0],\n",
    "                     [1.0, 1.0, 1.0]])\n",
    "viewer = view(vol, gradient_opacity=0.9, cmap=colormap)\n",
    "viewer"
   ]
  },
  {
   "cell_type": "code",
   "execution_count": null,
   "id": "476010bc",
   "metadata": {},
   "outputs": [],
   "source": [
    "viewer.cmap"
   ]
  },
  {
   "cell_type": "markdown",
   "id": "fbd5f9bc",
   "metadata": {
    "slideshow": {
     "slide_type": "slide"
    }
   },
   "source": [
    "Or, specify a custom [`matplotlib.colors.LinearSegmentedColormap`](https://matplotlib.org/api/_as_gen/matplotlib.colors.LinearSegmentedColormap.html#matplotlib.colors.LinearSegmentedColormap) from [matplotlib](https://matplotlib.org/tutorials/colors/colormaps.html#sphx-glr-tutorials-colors-colormaps-py)."
   ]
  },
  {
   "cell_type": "code",
   "execution_count": null,
   "id": "a175f292",
   "metadata": {},
   "outputs": [],
   "source": [
    "import matplotlib\n",
    "\n",
    "print(type(matplotlib.cm.autumn))\n",
    "\n",
    "view(vol, gradient_opacity=0.9, cmap=matplotlib.cm.autumn)"
   ]
  },
  {
   "cell_type": "markdown",
   "id": "7f125b24",
   "metadata": {
    "slideshow": {
     "slide_type": "slide"
    }
   },
   "source": [
    "### Exercise\n",
    "\n",
    "Create a color map from NumPy arrays that goes from black to blue."
   ]
  },
  {
   "cell_type": "code",
   "execution_count": null,
   "id": "9e510b44",
   "metadata": {},
   "outputs": [],
   "source": [
    "# Solution code"
   ]
  },
  {
   "cell_type": "code",
   "execution_count": null,
   "id": "fc961294",
   "metadata": {},
   "outputs": [],
   "source": [
    "# %load solutions/03_colormap.py"
   ]
  }
 ],
 "metadata": {
  "kernelspec": {
   "display_name": "Python 3 (ipykernel)",
   "language": "python",
   "name": "python3"
  }
 },
 "nbformat": 4,
 "nbformat_minor": 5
}
