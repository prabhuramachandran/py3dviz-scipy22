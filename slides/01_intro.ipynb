{
 "cells": [
  {
   "cell_type": "markdown",
   "id": "48229a51",
   "metadata": {
    "lines_to_next_cell": 2,
    "slideshow": {
     "slide_type": "slide"
    }
   },
   "source": [
    "## Pythonic 3D visualization: Introduction\n",
    "\n",
    "**Prabhu Ramachandran and Matt McCormick**\n",
    "\n",
    "**SciPy 2022**\n"
   ]
  },
  {
   "cell_type": "markdown",
   "id": "32132a3e",
   "metadata": {
    "slideshow": {
     "slide_type": "slide"
    }
   },
   "source": [
    "## 3D visualization in Python\n",
    "\n",
    "- Visualization vs. Rendering\n",
    "- Visualization is more\n",
    "- Not as straightforward as 2D visualization\n"
   ]
  },
  {
   "cell_type": "markdown",
   "id": "059bf8fb",
   "metadata": {
    "slideshow": {
     "slide_type": "slide"
    }
   },
   "source": [
    "## The various options\n",
    "\n",
    "- Python library or standalone application\n",
    "- VTK based, lower-level OpenGL/WebGL based\n",
    "- Desktop-based or Web-based\n",
    "- Client-side or server-side rendering\n",
    "- Mature or experimental\n",
    "- Optimal use of hardware acceleration etc.\n",
    "- Advanced features: large data, parallel rendering, ...\n"
   ]
  },
  {
   "cell_type": "markdown",
   "id": "96f1a30d",
   "metadata": {
    "slideshow": {
     "slide_type": "slide"
    }
   },
   "source": [
    "## Our focus\n",
    "\n",
    "- VTK based tools: Mayavi and itkwidgets\n",
    "\n",
    "- Fully open source: BSD license, Apache 2.0 license\n",
    "\n",
    "- Mayavi\n",
    "   - Mature (first in 2001, rewritten in 2006)\n",
    "   - Fully scriptable\n",
    "   - Full-fledged UI\n",
    "   - Easy to build UIs\n",
    "   - Basic jupyter notebook support\n",
    "   - Problem: busy lead developer\n",
    "\n",
    "- itkwidgets\n",
    "   - First release 2018, rewrite pre-releases currently available\n",
    "   - Excellent client-side support\n",
    "   - Current: Jupyter, ipywidgets\n",
    "   - Problem: interactive 3D data exploration\n",
    "   - Future: Generic web platform support, flexible rendering, customizable UI\n",
    "   - Accessible, flexible, sustainable"
   ]
  },
  {
   "cell_type": "markdown",
   "id": "bfd587d7",
   "metadata": {
    "slideshow": {
     "slide_type": "slide"
    }
   },
   "source": [
    "## Mayavi features\n",
    "\n",
    "- Visualization of scalar, vector, tensor data\n",
    "- Basic volume rendering\n",
    "- Pythonic API\n",
    "- Supports variety of datasets: structured and unstructured\n",
    "- Full UI with automatic script recording\n"
   ]
  },
  {
   "cell_type": "markdown",
   "id": "24ed0111",
   "metadata": {
    "lines_to_next_cell": 2,
    "slideshow": {
     "slide_type": "slide"
    }
   },
   "source": [
    "## itkwidgets features\n",
    "\n",
    "- Visualize 2D and 3D images, point sets, and geometry, e.g. meshes, in Jupyter\n",
    "- Integrates with other Python packages, e.g. NumPy, Dask, vtk-based\n",
    "- Exquisite volume rendering\n",
    "- Label image segmentation 2D and 3D rendering\n",
    "- Innovative, powerful opacity transfer function / window / level widget"
   ]
  },
  {
   "cell_type": "markdown",
   "id": "54b92ffe",
   "metadata": {
    "slideshow": {
     "slide_type": "slide"
    }
   },
   "source": [
    "## When to use what?\n",
    "\n",
    "- Mayavi\n",
    "  - Exploration locally\n",
    "  - Powerful UI useful for exploration\n",
    "  - Desktop UIs/dialogs\n",
    "  - Supports itkwidgets for remote viz.\n",
    "\n",
    "- itkwidgets:\n",
    "  - Excellent for client side\n",
    "  - Powerful widget support\n",
    "  - Plays well with everyone\n",
    "  - Imaging focus"
   ]
  }
 ],
 "metadata": {
  "kernelspec": {
   "display_name": "Python 3 (ipykernel)",
   "language": "python",
   "name": "python3"
  }
 },
 "nbformat": 4,
 "nbformat_minor": 5
}
