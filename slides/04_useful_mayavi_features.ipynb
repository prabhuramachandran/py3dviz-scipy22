{
 "cells": [
  {
   "cell_type": "markdown",
   "id": "55d41770",
   "metadata": {
    "slideshow": {
     "slide_type": "slide"
    }
   },
   "source": [
    "## Pythonic 3D visualization: Some useful features\n",
    "\n",
    "**Prabhu Ramachandran and Matt McCormick**\n",
    "\n",
    "**SciPy 2022**\n"
   ]
  },
  {
   "cell_type": "markdown",
   "id": "9d3e641e",
   "metadata": {
    "slideshow": {
     "slide_type": "slide"
    }
   },
   "source": [
    "## Useful features\n",
    "\n",
    "- Powerful and convenient UI\n",
    "- Script recording for automation\n",
    "- Building custom UIs and dialogs\n",
    "- Notebook support (server-side and client-side)\n",
    "\n"
   ]
  },
  {
   "cell_type": "markdown",
   "id": "d3f825ac",
   "metadata": {
    "slideshow": {
     "slide_type": "slide"
    }
   },
   "source": [
    "## Demo of script recording\n",
    "\n",
    "\n"
   ]
  },
  {
   "cell_type": "markdown",
   "id": "4c7b56b1",
   "metadata": {
    "slideshow": {
     "slide_type": "slide"
    }
   },
   "source": [
    "## Custom UIs\n",
    "\n",
    "<center>\n",
    "<img width=\"90%\" src=\"MEDIA/m2/lorenz_ui1.png\"/>\n",
    "</center>\n"
   ]
  },
  {
   "cell_type": "markdown",
   "id": "f1ed629f",
   "metadata": {
    "slideshow": {
     "slide_type": "slide"
    }
   },
   "source": [
    "## Custom UIs\n",
    "\n",
    "- 130 loc for the UI\n",
    "- Uses traits/traitsui\n",
    "- Declarative UI\n",
    "- See ETS tutorial this afternoon\n"
   ]
  },
  {
   "cell_type": "markdown",
   "id": "d2d6fae5",
   "metadata": {
    "slideshow": {
     "slide_type": "slide"
    }
   },
   "source": [
    "## Notebook support\n",
    "\n",
    "- Both server-side and client side possible\n",
    "- Use `mlab.init_notebook`\n",
    "- Different backends: `'ipy'` or `'itk'`\n"
   ]
  }
 ],
 "metadata": {
  "kernelspec": {
   "display_name": "Python 3 (ipykernel)",
   "language": "python",
   "name": "python3"
  }
 },
 "nbformat": 4,
 "nbformat_minor": 5
}
