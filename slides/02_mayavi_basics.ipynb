{
 "cells": [
  {
   "cell_type": "markdown",
   "id": "9f67d070",
   "metadata": {
    "slideshow": {
     "slide_type": "slide"
    }
   },
   "source": [
    "## Mayavi basics\n",
    "\n",
    "**Prabhu Ramachandran and Matt McCormick**\n",
    "\n",
    "**SciPy 2022**\n"
   ]
  },
  {
   "cell_type": "markdown",
   "id": "45fce2e2",
   "metadata": {
    "lines_to_next_cell": 2,
    "slideshow": {
     "slide_type": "slide"
    }
   },
   "source": [
    "## Outline\n",
    "\n",
    "- **Using Mayavi's `mlab`** $\\Longleftarrow$\n",
    "- Simple Animation\n"
   ]
  },
  {
   "cell_type": "markdown",
   "id": "af148aef",
   "metadata": {
    "slideshow": {
     "slide_type": "slide"
    }
   },
   "source": [
    "## Getting started with `mlab`\n"
   ]
  },
  {
   "cell_type": "markdown",
   "id": "c8c1106b",
   "metadata": {
    "slideshow": {
     "slide_type": "slide"
    }
   },
   "source": [
    "## Overview\n",
    "\n",
    "* Simple\n",
    "\n",
    "* Convenient\n",
    "\n",
    "* Full-featured\n"
   ]
  },
  {
   "cell_type": "markdown",
   "id": "7637b755",
   "metadata": {
    "slideshow": {
     "slide_type": "slide"
    }
   },
   "source": [
    "## Getting started\n",
    "\n",
    "With `jupyter`,\n",
    "\n",
    "```\n",
    "$ jupyter console\n",
    "In [1]: %gui qt\n",
    "```\n",
    "\n",
    "with IPython,\n",
    "\n",
    "```\n",
    "$ ipython --gui=qt\n",
    "```\n",
    "\n",
    "or\n",
    "\n",
    "```\n",
    "$ ipython\n",
    "In [1]: %gui qt\n",
    "```\n"
   ]
  },
  {
   "cell_type": "markdown",
   "id": "0260055d",
   "metadata": {
    "slideshow": {
     "slide_type": "slide"
    }
   },
   "source": [
    "## Using notebooks\n",
    "\n",
    "Make sure you have the following code first\n"
   ]
  },
  {
   "cell_type": "code",
   "execution_count": null,
   "id": "e32bb5ce",
   "metadata": {},
   "outputs": [],
   "source": [
    "%gui qt"
   ]
  },
  {
   "cell_type": "markdown",
   "id": "0f72b170",
   "metadata": {},
   "source": [
    "* All plots will pop-up a window\n",
    "\n",
    "* Inline support will be covered later\n"
   ]
  },
  {
   "cell_type": "markdown",
   "id": "016ae86a",
   "metadata": {
    "slideshow": {
     "slide_type": "slide"
    }
   },
   "source": [
    "## Troubleshooting\n",
    "\n",
    "* Which version of Python?\n",
    "\n",
    "* Version of VTK?\n",
    "\n",
    "* Version of Qt?\n",
    "\n",
    "* Post on chat\n"
   ]
  },
  {
   "cell_type": "markdown",
   "id": "40ea44bb",
   "metadata": {
    "slideshow": {
     "slide_type": "slide"
    }
   },
   "source": [
    "## What if the Qt version doesn't work?\n",
    "\n",
    "- If you are stuck and wish to follow along, try the following\n",
    "\n",
    "1. Restart this notebook, do not run the previous `%gui qt` cell\n",
    "2. Run the following:\n"
   ]
  },
  {
   "cell_type": "code",
   "execution_count": null,
   "id": "cfd915b1",
   "metadata": {
    "lines_to_next_cell": 0
   },
   "outputs": [],
   "source": [
    "from mayavi import mlab\n",
    "mlab.init_notebook()"
   ]
  },
  {
   "cell_type": "markdown",
   "id": "a6f2b283",
   "metadata": {},
   "source": [
    "Continue with the tutorial\n"
   ]
  },
  {
   "cell_type": "markdown",
   "id": "0d56fa25",
   "metadata": {
    "slideshow": {
     "slide_type": "slide"
    }
   },
   "source": [
    "## Using `mlab`\n"
   ]
  },
  {
   "cell_type": "code",
   "execution_count": null,
   "id": "b4ea37c1",
   "metadata": {
    "lines_to_next_cell": 2
   },
   "outputs": [],
   "source": [
    "from mayavi import mlab"
   ]
  },
  {
   "cell_type": "markdown",
   "id": "6e15d340",
   "metadata": {},
   "source": [
    "Try these\n"
   ]
  },
  {
   "cell_type": "code",
   "execution_count": null,
   "id": "0c80ff1e",
   "metadata": {},
   "outputs": [],
   "source": [
    "mlab.test_<TAB>"
   ]
  },
  {
   "cell_type": "code",
   "execution_count": null,
   "id": "3e61e2ce",
   "metadata": {
    "slideshow": {
     "slide_type": "fragment"
    }
   },
   "outputs": [],
   "source": [
    "mlab.test_contour3d()"
   ]
  },
  {
   "cell_type": "code",
   "execution_count": null,
   "id": "450cd71c",
   "metadata": {},
   "outputs": [],
   "source": [
    "mlab.test_contour3d??"
   ]
  },
  {
   "cell_type": "markdown",
   "id": "28ee628f",
   "metadata": {
    "slideshow": {
     "slide_type": "slide"
    }
   },
   "source": [
    "## Exploring the view\n",
    "\n",
    "<img src=\"MEDIA/m2/contour3d.png\" height=\"60%\" />\n",
    "\n",
    "* Mouse\n",
    "* Keyboard\n",
    "* Toolbar\n",
    "* Mayavi icon ![Mayavi icon](MEDIA/m2/m2_icon.png)\n"
   ]
  },
  {
   "cell_type": "markdown",
   "id": "13575463",
   "metadata": {
    "slideshow": {
     "slide_type": "slide"
    }
   },
   "source": [
    "## Using `mlab`: the basics\n"
   ]
  },
  {
   "cell_type": "markdown",
   "id": "3fa34a52",
   "metadata": {
    "slideshow": {
     "slide_type": "slide"
    }
   },
   "source": [
    "## `mlab` plotting functions: 0D data\n",
    "<img src=\"MEDIA/m2/mlab/points3d_ex.png\" height=\"40%\" />\n"
   ]
  },
  {
   "cell_type": "code",
   "execution_count": null,
   "id": "5dcbb53b",
   "metadata": {},
   "outputs": [],
   "source": [
    "import numpy as np\n",
    "from numpy import *"
   ]
  },
  {
   "cell_type": "code",
   "execution_count": null,
   "id": "fe6fe6c8",
   "metadata": {},
   "outputs": [],
   "source": [
    "t = linspace(0, 2*pi, 50)\n",
    "u = cos(t)*pi\n",
    "x, y, z = sin(u), cos(u), sin(t)"
   ]
  },
  {
   "cell_type": "code",
   "execution_count": null,
   "id": "d9a83ebc",
   "metadata": {},
   "outputs": [],
   "source": [
    "mlab.points3d(x, y, z)"
   ]
  },
  {
   "cell_type": "markdown",
   "id": "785aae65",
   "metadata": {
    "slideshow": {
     "slide_type": "slide"
    }
   },
   "source": [
    "## Changing how things look\n",
    "\n",
    "### Clearing the view\n"
   ]
  },
  {
   "cell_type": "code",
   "execution_count": null,
   "id": "00d7c695",
   "metadata": {},
   "outputs": [],
   "source": [
    "mlab.clf()"
   ]
  },
  {
   "cell_type": "markdown",
   "id": "27ee736b",
   "metadata": {},
   "source": [
    "### IPython is your friend!\n"
   ]
  },
  {
   "cell_type": "code",
   "execution_count": null,
   "id": "ff6d1162",
   "metadata": {},
   "outputs": [],
   "source": [
    "mlab.points3d?"
   ]
  },
  {
   "cell_type": "markdown",
   "id": "cfb13452",
   "metadata": {
    "slideshow": {
     "slide_type": "fragment"
    }
   },
   "source": [
    "\n",
    "* Extra argument: Scalars\n",
    "* Keyword arguments\n",
    "* UI\n"
   ]
  },
  {
   "cell_type": "code",
   "execution_count": null,
   "id": "66419110",
   "metadata": {
    "slideshow": {
     "slide_type": "fragment"
    }
   },
   "outputs": [],
   "source": [
    "mlab.points3d(x, y, z, t, scale_mode='none')"
   ]
  },
  {
   "cell_type": "markdown",
   "id": "943c24ec",
   "metadata": {
    "slideshow": {
     "slide_type": "slide"
    }
   },
   "source": [
    "### 1D data\n",
    "\n",
    "<img src=\"MEDIA/m2/mlab/plot3d_ex.png\" height=\"80%\"/>\n"
   ]
  },
  {
   "cell_type": "code",
   "execution_count": null,
   "id": "15f8e544",
   "metadata": {},
   "outputs": [],
   "source": [
    "mlab.clf()\n",
    "mlab.plot3d(x, y, z, t)"
   ]
  },
  {
   "cell_type": "markdown",
   "id": "46cdae3e",
   "metadata": {},
   "source": [
    "Plots lines between the points\n",
    "\n"
   ]
  },
  {
   "cell_type": "markdown",
   "id": "c528d2f2",
   "metadata": {
    "slideshow": {
     "slide_type": "slide"
    }
   },
   "source": [
    "## 2D data: `mlab.surf`\n",
    "<img src=\"MEDIA/m2/mlab/surf_ex.png\" height=\"30%\" />\n"
   ]
  },
  {
   "cell_type": "code",
   "execution_count": null,
   "id": "1a9b2e85",
   "metadata": {},
   "outputs": [],
   "source": [
    "x, y = mgrid[-3:3:100j,-3:3:100j]\n",
    "z = sin(x*x + y*y)"
   ]
  },
  {
   "cell_type": "code",
   "execution_count": null,
   "id": "e8e15ccd",
   "metadata": {},
   "outputs": [],
   "source": [
    "mlab.clf()\n",
    "mlab.surf(x, y, z)"
   ]
  },
  {
   "cell_type": "markdown",
   "id": "273ae12d",
   "metadata": {},
   "source": [
    "Assumes the points are rectilinear\n"
   ]
  },
  {
   "cell_type": "markdown",
   "id": "9aef156e",
   "metadata": {
    "slideshow": {
     "slide_type": "slide"
    }
   },
   "source": [
    "## 2D data: `mlab.contour_surf`\n",
    "\n",
    "<img src=\"MEDIA/m2/mlab/contour_surf_ex.png\" height=\"50%\"/>\n"
   ]
  },
  {
   "cell_type": "code",
   "execution_count": null,
   "id": "e3354e93",
   "metadata": {},
   "outputs": [],
   "source": [
    "x, y = mgrid[-3:3:100j,-3:3:100j]\n",
    "z = sin(x*x + y*y)"
   ]
  },
  {
   "cell_type": "code",
   "execution_count": null,
   "id": "dec21e98",
   "metadata": {},
   "outputs": [],
   "source": [
    "mlab.clf()\n",
    "mlab.contour_surf(x, y, z)"
   ]
  },
  {
   "cell_type": "markdown",
   "id": "8ba62052",
   "metadata": {},
   "source": [
    "Assumes the points are rectilinear"
   ]
  },
  {
   "cell_type": "markdown",
   "id": "3021d619",
   "metadata": {
    "slideshow": {
     "slide_type": "slide"
    }
   },
   "source": [
    "## Interlude: mayavi pipleine\n",
    "\n",
    "- Notice the pipeline on the UI\n",
    "- Somewhat mirrors VTK's data flow pipleine\n",
    "- Can manipulate pipeline on the UI\n",
    "- Can do the same with scripting\n"
   ]
  },
  {
   "cell_type": "markdown",
   "id": "8d4bfaf5",
   "metadata": {
    "slideshow": {
     "slide_type": "slide"
    }
   },
   "source": [
    "## Interlude: `mlab.pipeline`\n",
    "\n",
    "- `mlab.surf` and  the like are high-level functions\n",
    "- `mlab.pipeline` provides more fine-grained control\n",
    "- Quick example\n"
   ]
  },
  {
   "cell_type": "code",
   "execution_count": null,
   "id": "47020deb",
   "metadata": {
    "lines_to_next_cell": 0
   },
   "outputs": [],
   "source": [
    "mlab.surf(x, y, z)"
   ]
  },
  {
   "cell_type": "markdown",
   "id": "10811ab1",
   "metadata": {},
   "source": [
    "is equivalent to"
   ]
  },
  {
   "cell_type": "code",
   "execution_count": null,
   "id": "c3ea6486",
   "metadata": {},
   "outputs": [],
   "source": [
    "src = mlab.pipeline.array2d_source(x, y, z)\n",
    "warp = mlab.pipeline.warp_scalar(src)\n",
    "normals = mlab.pipeline.poly_data_normals(warp)\n",
    "surf = mlab.pipeline.surface(normals)"
   ]
  },
  {
   "cell_type": "markdown",
   "id": "b0216dbb",
   "metadata": {
    "lines_to_next_cell": 2,
    "slideshow": {
     "slide_type": "slide"
    }
   },
   "source": [
    "## `mlab.pipeline`\n",
    "\n",
    "- Can be used for more sophisticated plots\n",
    "\n"
   ]
  },
  {
   "cell_type": "markdown",
   "id": "03dd3af6",
   "metadata": {
    "slideshow": {
     "slide_type": "slide"
    }
   },
   "source": [
    "## 2D data: `mlab.mesh`\n"
   ]
  },
  {
   "cell_type": "code",
   "execution_count": null,
   "id": "4bf2271b",
   "metadata": {
    "lines_to_next_cell": 2
   },
   "outputs": [],
   "source": [
    "mlab.clf()\n",
    "mlab.mesh(x, y, z)"
   ]
  },
  {
   "cell_type": "markdown",
   "id": "172d9a33",
   "metadata": {},
   "source": [
    "**Points need not be regular**\n"
   ]
  },
  {
   "cell_type": "code",
   "execution_count": null,
   "id": "07efbfc3",
   "metadata": {
    "slideshow": {
     "slide_type": "fragment"
    }
   },
   "outputs": [],
   "source": [
    "x, y = mgrid[-3:3:100j,-3:3:100j]\n",
    "z = (x*x + y*y)*0.1\n",
    "mlab.clf()\n",
    "mlab.mesh(sin(x), cos(y), z)"
   ]
  },
  {
   "cell_type": "markdown",
   "id": "6f9556a0",
   "metadata": {
    "slideshow": {
     "slide_type": "fragment"
    }
   },
   "source": [
    "Go ahead and experiment with other functions!\n"
   ]
  },
  {
   "cell_type": "code",
   "execution_count": null,
   "id": "f6d0f664",
   "metadata": {},
   "outputs": [],
   "source": [
    "mlab.clf()\n",
    "mlab.mesh(sin(x), cos(y), sin(x*y))"
   ]
  },
  {
   "cell_type": "markdown",
   "id": "3beb1245",
   "metadata": {
    "slideshow": {
     "slide_type": "slide"
    }
   },
   "source": [
    "## Exercise\n",
    "\n",
    "Plot the surface of a unit sphere using `mlab.mesh` with a wireframe.\n"
   ]
  },
  {
   "cell_type": "markdown",
   "id": "bfaac09e",
   "metadata": {
    "slideshow": {
     "slide_type": "fragment"
    }
   },
   "source": [
    "Hint: recall spherical polar to Cartesians,\n",
    "\n",
    "$x = r \\sin(\\theta) \\cos(\\phi)$\n",
    "\n",
    "$y = r \\sin(\\theta) \\sin(\\phi)$\n",
    "\n",
    "$z = r \\cos(\\theta)$\n"
   ]
  },
  {
   "cell_type": "markdown",
   "id": "9645fa80",
   "metadata": {
    "slideshow": {
     "slide_type": "slide"
    }
   },
   "source": [
    "## Solution\n"
   ]
  },
  {
   "cell_type": "code",
   "execution_count": null,
   "id": "efce32a8",
   "metadata": {},
   "outputs": [],
   "source": [
    "# Solution code"
   ]
  },
  {
   "cell_type": "code",
   "execution_count": null,
   "id": "913ece55",
   "metadata": {},
   "outputs": [],
   "source": [
    "%load -r 5-10 solutions/01_sphere.py"
   ]
  },
  {
   "cell_type": "markdown",
   "id": "e15d2cd1",
   "metadata": {
    "slideshow": {
     "slide_type": "slide"
    }
   },
   "source": [
    "## 2D data: `mlab.triangular_mesh`\n",
    "\n",
    "<img src=\"MEDIA/m2/mlab/triangular_mesh_ex.png\"/>\n"
   ]
  },
  {
   "cell_type": "code",
   "execution_count": null,
   "id": "b6f092b1",
   "metadata": {},
   "outputs": [],
   "source": [
    "x, y, z = [[0., 1., 1], [0., 0, 1], [0., 0, 0]]\n",
    "t = [[0, 1, 2]]"
   ]
  },
  {
   "cell_type": "code",
   "execution_count": null,
   "id": "8da1534c",
   "metadata": {},
   "outputs": [],
   "source": [
    "points = np.array([[0., 0, 0], [1, 0, 0], [1, 1, 0]])\n",
    "x, y, z = points.T"
   ]
  },
  {
   "cell_type": "code",
   "execution_count": null,
   "id": "d0dabbfd",
   "metadata": {},
   "outputs": [],
   "source": [
    "mlab.clf()\n",
    "mlab.triangular_mesh(x, y, z, t)"
   ]
  },
  {
   "cell_type": "markdown",
   "id": "f093b537",
   "metadata": {},
   "source": [
    "Explicitly specify the triangles\n"
   ]
  },
  {
   "cell_type": "markdown",
   "id": "58797e91",
   "metadata": {
    "slideshow": {
     "slide_type": "slide"
    }
   },
   "source": [
    "## Exercise (Optional)\n",
    "\n",
    "Create a simple pyramid composed of triangles and plot it.\n"
   ]
  },
  {
   "cell_type": "markdown",
   "id": "d682e31b",
   "metadata": {
    "slideshow": {
     "slide_type": "slide"
    }
   },
   "source": [
    "## Solution\n"
   ]
  },
  {
   "cell_type": "code",
   "execution_count": null,
   "id": "6526b9df",
   "metadata": {},
   "outputs": [],
   "source": [
    "# Solution..."
   ]
  },
  {
   "cell_type": "code",
   "execution_count": null,
   "id": "4d34e5d0",
   "metadata": {},
   "outputs": [],
   "source": [
    "%load solutions/02_pyramid.py"
   ]
  },
  {
   "cell_type": "markdown",
   "id": "6ff84541",
   "metadata": {
    "slideshow": {
     "slide_type": "slide"
    }
   },
   "source": [
    "## 2D data: `mlab.imshow`\n"
   ]
  },
  {
   "cell_type": "code",
   "execution_count": null,
   "id": "f833fa0f",
   "metadata": {},
   "outputs": [],
   "source": [
    "s = np.random.random((2<<12, 2<<12))\n",
    "s.shape"
   ]
  },
  {
   "cell_type": "code",
   "execution_count": null,
   "id": "6a7bd16a",
   "metadata": {},
   "outputs": [],
   "source": [
    "mlab.clf()\n",
    "mlab.imshow(s)"
   ]
  },
  {
   "cell_type": "markdown",
   "id": "8faa9423",
   "metadata": {},
   "source": [
    "Do not try this with `matplotlib`!\n"
   ]
  },
  {
   "cell_type": "markdown",
   "id": "ea23563f",
   "metadata": {
    "slideshow": {
     "slide_type": "slide"
    }
   },
   "source": [
    "## 3D data\n",
    "\n",
    "<img src=\"MEDIA/m2/mlab/contour3d.png\" width=\"35%\" height=\"50%\" />\n"
   ]
  },
  {
   "cell_type": "code",
   "execution_count": null,
   "id": "998e6a73",
   "metadata": {},
   "outputs": [],
   "source": [
    "x, y, z = mgrid[-5:5:64j, -5:5:64j, -5:5:64j]\n",
    "mlab.clf()\n",
    "mlab.contour3d(x*x*0.5 + y*y + z*z*2)"
   ]
  },
  {
   "cell_type": "markdown",
   "id": "623c9692",
   "metadata": {
    "slideshow": {
     "slide_type": "slide"
    }
   },
   "source": [
    "## 3D data: `volume_slice`\n",
    "\n",
    "<img src=\"MEDIA/m2/mlab/volume_slice.png\" width=\"35%\" height=\"50%\" />\n"
   ]
  },
  {
   "cell_type": "code",
   "execution_count": null,
   "id": "bae2fb77",
   "metadata": {},
   "outputs": [],
   "source": [
    "x, y, z = np.mgrid[-5:5:64j, -5:5:64j, -5:5:64j]\n",
    "mlab.clf()\n",
    "mlab.volume_slice(x, y, z, x*x*0.5 + y*y + z*z*2)"
   ]
  },
  {
   "cell_type": "markdown",
   "id": "ee766767",
   "metadata": {
    "slideshow": {
     "slide_type": "slide"
    }
   },
   "source": [
    "## 3D vector data: `mlab.quiver3d`\n",
    "\n",
    "<img src=\"MEDIA/m2/mlab/quiver3d_ex.png\" width=\"35%\" height=\"50%\"/>\n"
   ]
  },
  {
   "cell_type": "code",
   "execution_count": null,
   "id": "435d5302",
   "metadata": {},
   "outputs": [],
   "source": [
    "mlab.clf()\n",
    "mlab.test_quiver3d()"
   ]
  },
  {
   "cell_type": "code",
   "execution_count": null,
   "id": "e357b055",
   "metadata": {},
   "outputs": [],
   "source": [
    "#o = mlab.quiver3d(x, y, z, u, v, w)\n",
    "o = mlab.quiver3d(1, 1, 1, 0, 5, 5)"
   ]
  },
  {
   "cell_type": "markdown",
   "id": "20633d9b",
   "metadata": {
    "slideshow": {
     "slide_type": "slide"
    }
   },
   "source": [
    "## 3D vector data: `mlab.flow`\n"
   ]
  },
  {
   "cell_type": "code",
   "execution_count": null,
   "id": "cf0c96c0",
   "metadata": {},
   "outputs": [],
   "source": [
    "x, y, z = mgrid[-2:3:10j, -2:3:10j, -2:3:10j]\n",
    "r = sqrt(x**2 + y**2 + z**4)\n",
    "u = y*sin(r)/(r+0.001)\n",
    "v = -x*sin(r)/(r+0.001)\n",
    "w = ones_like(z)*0.1\n",
    "mlab.clf()\n",
    "obj = mlab.flow(x, y, z, u, v, w,\n",
    "                seedtype='plane')"
   ]
  },
  {
   "cell_type": "markdown",
   "id": "1e5952a7",
   "metadata": {
    "slideshow": {
     "slide_type": "slide"
    }
   },
   "source": [
    "## Exercise: Lorenz equation\n",
    "\n",
    "\\begin{align}\n",
    "\\frac{d x}{dt} &= s (y-x) \\\\\n",
    "\\frac{d y}{d t} &= rx -y -xz \\\\\n",
    "\\frac{d z}{d t} &= xy - bz \\\\\n",
    "\\end{align}\n",
    "\n",
    "Let $ s=10,r=28, b=8./3$.\n"
   ]
  },
  {
   "cell_type": "code",
   "execution_count": null,
   "id": "e7ce70b3",
   "metadata": {},
   "outputs": [],
   "source": [
    "x, y, z = mgrid[-50:50:20j, -50:50:20j, -10:60:20j]"
   ]
  },
  {
   "cell_type": "markdown",
   "id": "010da1c9",
   "metadata": {
    "slideshow": {
     "slide_type": "slide"
    }
   },
   "source": [
    "## Exercise\n",
    "\n",
    "* Hint: use `mlab.quiver3d`\n",
    "* Explore arguments to make the visualization better\n",
    "\n",
    "\n",
    "<!-- #region slideshow={\"slide_type\": \"slide\"} -->\n",
    "## Solution\n"
   ]
  },
  {
   "cell_type": "code",
   "execution_count": null,
   "id": "96264afb",
   "metadata": {},
   "outputs": [],
   "source": [
    "def lorenz(x, y, z, s=10.,r=28., b=8./3):\n",
    "    u = s*(y-x)\n",
    "    v = r*x -y - x*z\n",
    "    w = x*y - b*z\n",
    "    return u, v, w"
   ]
  },
  {
   "cell_type": "code",
   "execution_count": null,
   "id": "0d733902",
   "metadata": {},
   "outputs": [],
   "source": [
    "x, y, z = mgrid[-50:50:20j,-50:50:20j, -10:60:20j]\n",
    "# Solution here ...."
   ]
  },
  {
   "cell_type": "code",
   "execution_count": null,
   "id": "9ebcc4ac",
   "metadata": {},
   "outputs": [],
   "source": [
    "%load solutions/02_lorenz.py"
   ]
  },
  {
   "cell_type": "markdown",
   "id": "518255cf",
   "metadata": {
    "slideshow": {
     "slide_type": "slide"
    }
   },
   "source": [
    "## Another exercise\n",
    "\n",
    "* Try the same with `mlab.flow`\n",
    "* Use the UI to configure things\n"
   ]
  },
  {
   "cell_type": "markdown",
   "id": "f20f2ce6",
   "metadata": {
    "slideshow": {
     "slide_type": "slide"
    }
   },
   "source": [
    "## Solution\n"
   ]
  },
  {
   "cell_type": "code",
   "execution_count": null,
   "id": "3eeae993",
   "metadata": {
    "lines_to_next_cell": 2
   },
   "outputs": [],
   "source": [
    "mlab.clf()\n",
    "mlab.flow(x, y, z, u, v, w)"
   ]
  },
  {
   "cell_type": "markdown",
   "id": "1bdc197f",
   "metadata": {
    "slideshow": {
     "slide_type": "slide"
    }
   },
   "source": [
    "## Tips\n",
    "\n",
    "* Basic visualization: not very useful\n",
    "\n",
    "* Tweak parameters: `mask_points, scale_factor`\n",
    "* Explore parameters on UI\n",
    "\n",
    "* `mlab.flow`  is a lot better!\n",
    "\n",
    "**Good visualization involves work**\n"
   ]
  },
  {
   "cell_type": "markdown",
   "id": "c59cab24",
   "metadata": {
    "slideshow": {
     "slide_type": "slide"
    }
   },
   "source": [
    "## Other utility functions\n",
    "\n",
    "* `gcf` : get current figure\n"
   ]
  },
  {
   "cell_type": "markdown",
   "id": "2237db02",
   "metadata": {
    "slideshow": {
     "slide_type": "fragment"
    }
   },
   "source": [
    "\n",
    "* `savefig`, `figure`\n"
   ]
  },
  {
   "cell_type": "markdown",
   "id": "1db15843",
   "metadata": {
    "slideshow": {
     "slide_type": "fragment"
    }
   },
   "source": [
    "\n",
    "* `axes`, `outline`\n"
   ]
  },
  {
   "cell_type": "markdown",
   "id": "ce7c6ce6",
   "metadata": {
    "slideshow": {
     "slide_type": "fragment"
    }
   },
   "source": [
    "\n",
    "* `title`, `xlabel, ylabel, zlabel`\n"
   ]
  },
  {
   "cell_type": "markdown",
   "id": "fca7ecdb",
   "metadata": {
    "slideshow": {
     "slide_type": "fragment"
    }
   },
   "source": [
    "\n",
    "* `colorbar, scalarbar, vectorbar`\n"
   ]
  },
  {
   "cell_type": "markdown",
   "id": "c4426187",
   "metadata": {
    "slideshow": {
     "slide_type": "fragment"
    }
   },
   "source": [
    "\n",
    "* `show` : Standalone mlab scripts\n"
   ]
  },
  {
   "cell_type": "markdown",
   "id": "12ae49eb",
   "metadata": {
    "slideshow": {
     "slide_type": "fragment"
    }
   },
   "source": [
    "\n",
    "* `orientation_axes`, `text3d`\n"
   ]
  },
  {
   "cell_type": "markdown",
   "id": "fba33099",
   "metadata": {
    "slideshow": {
     "slide_type": "slide"
    }
   },
   "source": [
    "## More utility functions\n",
    "\n",
    "* `show_pipeline`\n",
    "* `view, roll, yaw, move`\n",
    "* Others, see UG\n"
   ]
  },
  {
   "cell_type": "markdown",
   "id": "6ba0575c",
   "metadata": {
    "slideshow": {
     "slide_type": "slide"
    }
   },
   "source": [
    "## Setting the view\n"
   ]
  },
  {
   "cell_type": "code",
   "execution_count": null,
   "id": "86cad1e3",
   "metadata": {},
   "outputs": [],
   "source": [
    "print(mlab.view())\n",
    "mlab.view(azimuth=60, elevation=90, distance=100, focalpoint=None)"
   ]
  },
  {
   "cell_type": "markdown",
   "id": "1d7526cf",
   "metadata": {
    "lines_to_next_cell": 2,
    "slideshow": {
     "slide_type": "slide"
    }
   },
   "source": [
    "## Outline\n",
    "\n",
    "- Using Mayavi's `mlab`\n",
    "- **Simple Animation** $\\Longleftarrow$\n"
   ]
  },
  {
   "cell_type": "markdown",
   "id": "2f946590",
   "metadata": {
    "slideshow": {
     "slide_type": "slide"
    }
   },
   "source": [
    "## Animation\n",
    "\n",
    "* Specific to `mlab`\n",
    "* `points3d, plot3d, surf, mesh`, `quiver3d, contour3d` etc.\n",
    "* Returned object has `mlab_source` attribute\n",
    "* Setting attributes updates the plot\n"
   ]
  },
  {
   "cell_type": "markdown",
   "id": "575c6ea2",
   "metadata": {
    "slideshow": {
     "slide_type": "slide"
    }
   },
   "source": [
    "## Animating data\n"
   ]
  },
  {
   "cell_type": "code",
   "execution_count": null,
   "id": "98c16e8d",
   "metadata": {},
   "outputs": [],
   "source": [
    "mlab.clf()\n",
    "x, y = np.mgrid[0:3:1,0:3:1]\n",
    "s = mlab.surf(x, y, x*0.1)\n",
    "for i in range(10):\n",
    "    s.mlab_source.scalars = x*0.1*(i+1)"
   ]
  },
  {
   "cell_type": "markdown",
   "id": "f727b832",
   "metadata": {
    "lines_to_next_cell": 2,
    "slideshow": {
     "slide_type": "slide"
    }
   },
   "source": [
    "## But did it really animate??\n"
   ]
  },
  {
   "cell_type": "code",
   "execution_count": null,
   "id": "67abbfbb",
   "metadata": {
    "slideshow": {
     "slide_type": "slide"
    }
   },
   "outputs": [],
   "source": [
    "mlab.clf()\n",
    "x, y = np.mgrid[0:3:1,0:3:1]\n",
    "s = mlab.surf(x, y, x*0.1)\n",
    "for i in range(10):\n",
    "    s.mlab_source.scalars = x*0.1*(i+1)\n",
    "    mlab.process_ui_events() # <---"
   ]
  },
  {
   "cell_type": "markdown",
   "id": "a57ee4ce",
   "metadata": {
    "slideshow": {
     "slide_type": "slide"
    }
   },
   "source": [
    "## Animation: `mlab_source.set`\n",
    "Use `mlab_source.set` to change multiple values\n"
   ]
  },
  {
   "cell_type": "code",
   "execution_count": null,
   "id": "7ff9c27c",
   "metadata": {},
   "outputs": [],
   "source": [
    "import time\n",
    "for i in range(10):\n",
    "    s.mlab_source.set(\n",
    "        scalars=x*0.1*(i+1), y=y+i*0.5\n",
    "    )\n",
    "    mlab.process_ui_events()\n",
    "    time.sleep(0.1)"
   ]
  },
  {
   "cell_type": "markdown",
   "id": "fb740afc",
   "metadata": {
    "slideshow": {
     "slide_type": "slide"
    }
   },
   "source": [
    "## Animation: `mlab_source.reset`\n",
    "\n",
    "Use reset if shape changes\n"
   ]
  },
  {
   "cell_type": "code",
   "execution_count": null,
   "id": "ae195dcf",
   "metadata": {},
   "outputs": [],
   "source": [
    "mlab.clf()\n",
    "x, y = np.mgrid[0:3:1,0:3:1]\n",
    "s = mlab.surf(x, y, x*0.1, representation='wireframe')\n",
    "\n",
    "fig = mlab.gcf()"
   ]
  },
  {
   "cell_type": "code",
   "execution_count": null,
   "id": "139e728a",
   "metadata": {},
   "outputs": [],
   "source": [
    "for i in range(5):\n",
    "  sl = slice(0, 3, 1.0/(i+2))\n",
    "  x, y = np.mgrid[sl, sl]\n",
    "  sc = x*x*0.05*(i+1)\n",
    "  s.mlab_source.reset(x=x, y=y, scalars=sc)\n",
    "  fig.scene.reset_zoom()"
   ]
  },
  {
   "cell_type": "markdown",
   "id": "c45ae7b9",
   "metadata": {
    "lines_to_next_cell": 2,
    "slideshow": {
     "slide_type": "slide"
    }
   },
   "source": [
    "## `set` vs `reset`\n",
    "\n",
    "* `mlab_source.set`: multiple attributes\n",
    "\n",
    "* If you change the shape of the arrays use the\n",
    "  `reset` method\n",
    "\n",
    "* See `mlab.test_*_anim`  functions for more examples!\n",
    "\n",
    "* Use `mlab.savefig` : to dump files\n",
    "\n",
    "* `savefig`  supports a variety of output\n"
   ]
  },
  {
   "cell_type": "markdown",
   "id": "9292f14f",
   "metadata": {
    "slideshow": {
     "slide_type": "slide"
    }
   },
   "source": [
    "## Finding the traits you can change\n"
   ]
  },
  {
   "cell_type": "code",
   "execution_count": null,
   "id": "f5185bc4",
   "metadata": {},
   "outputs": [],
   "source": [
    "s.mlab_source.print_traits()"
   ]
  },
  {
   "cell_type": "markdown",
   "id": "d7eed8ab",
   "metadata": {
    "slideshow": {
     "slide_type": "slide"
    }
   },
   "source": [
    "## Animate decorator\n",
    "\n",
    "* `mlab.animate`\n",
    "* Useful when interactivity is desired\n"
   ]
  },
  {
   "cell_type": "code",
   "execution_count": null,
   "id": "be0c16a0",
   "metadata": {},
   "outputs": [],
   "source": [
    "@mlab.animate\n",
    "def anim():\n",
    "    x, y = np.mgrid[0:3:1,0:3:1]\n",
    "    s = mlab.surf(x, y, x*0.1)\n",
    "    for i in range(25):\n",
    "        s.mlab_source.set(\n",
    "            scalars = x*0.1*(i+1))\n",
    "        yield"
   ]
  },
  {
   "cell_type": "code",
   "execution_count": null,
   "id": "3aa0a9d1",
   "metadata": {},
   "outputs": [],
   "source": [
    "a = anim()"
   ]
  },
  {
   "cell_type": "markdown",
   "id": "dcc16f36",
   "metadata": {
    "slideshow": {
     "slide_type": "slide"
    }
   },
   "source": [
    "## Notes\n",
    "\n",
    "* Only works with a generator\n",
    "\n",
    "* Note that the UI is fully interactive\n",
    "\n",
    "* Can adjust the delay\n",
    "\n",
    "Can also do,\n"
   ]
  },
  {
   "cell_type": "code",
   "execution_count": null,
   "id": "380426e9",
   "metadata": {},
   "outputs": [],
   "source": [
    "@mlab.animate(delay=100, ui=False)\n",
    "def anim():\n",
    "    x, y = np.mgrid[0:3:1,0:3:1]\n",
    "    s = mlab.surf(x, y, x*0.1)\n",
    "    for i in range(25):\n",
    "        s.mlab_source.set(\n",
    "            scalars = x*0.1*(i+1))\n",
    "        yield"
   ]
  },
  {
   "cell_type": "markdown",
   "id": "79abd0ce",
   "metadata": {
    "slideshow": {
     "slide_type": "slide"
    }
   },
   "source": [
    "## Exercise (Optional)\n",
    "\n",
    "Create a stack of images animating the example below such that it looks\n",
    "like the wave is moving.\n"
   ]
  },
  {
   "cell_type": "code",
   "execution_count": null,
   "id": "ec57e619",
   "metadata": {},
   "outputs": [],
   "source": [
    "x, y = np.mgrid[-3:3:100j,-3:3:100j]\n",
    "z = np.sin(x*x + y*y)\n",
    "s = mlab.surf(x, y, z)"
   ]
  },
  {
   "cell_type": "markdown",
   "id": "83900414",
   "metadata": {
    "slideshow": {
     "slide_type": "slide"
    }
   },
   "source": [
    "## Solution\n"
   ]
  },
  {
   "cell_type": "code",
   "execution_count": null,
   "id": "fba3e533",
   "metadata": {},
   "outputs": [],
   "source": [
    "# Your solution here!"
   ]
  },
  {
   "cell_type": "code",
   "execution_count": null,
   "id": "98354366",
   "metadata": {},
   "outputs": [],
   "source": [
    "%load solutions/03_wave_anim.py"
   ]
  },
  {
   "cell_type": "markdown",
   "id": "444e9c12",
   "metadata": {
    "slideshow": {
     "slide_type": "slide"
    }
   },
   "source": [
    "## Automatic movie recording\n",
    "\n",
    "* Click on \"record\" on the scene movie tab\n",
    "\n",
    "* Or try the following\n"
   ]
  },
  {
   "cell_type": "code",
   "execution_count": null,
   "id": "620acfa3",
   "metadata": {},
   "outputs": [],
   "source": [
    "f = mlab.figure()\n",
    "f.scene.movie_maker.record = True\n",
    "mlab.test_mesh_sphere_anim()"
   ]
  },
  {
   "cell_type": "code",
   "execution_count": null,
   "id": "f84cc92e",
   "metadata": {},
   "outputs": [],
   "source": []
  }
 ],
 "metadata": {
  "kernelspec": {
   "display_name": "Python 3 (ipykernel)",
   "language": "python",
   "name": "python3"
  }
 },
 "nbformat": 4,
 "nbformat_minor": 5
}
